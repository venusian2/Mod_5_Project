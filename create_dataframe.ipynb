{
 "cells": [
  {
   "cell_type": "code",
   "execution_count": 32,
   "metadata": {},
   "outputs": [],
   "source": [
    "import pandas as pd\n",
    "import numpy as np"
   ]
  },
  {
   "cell_type": "markdown",
   "metadata": {},
   "source": [
    "since we used so many notebooks to scrape our data we have to combine all those csv files together"
   ]
  },
  {
   "cell_type": "code",
   "execution_count": 33,
   "metadata": {},
   "outputs": [],
   "source": [
    "#initialize list to hold lyrics\n",
    "lyrics_list = []"
   ]
  },
  {
   "cell_type": "code",
   "execution_count": 34,
   "metadata": {},
   "outputs": [],
   "source": [
    "# loop through each csv file and extract lyrics\n",
    "for i in range(1,23):\n",
    "    lyric_df = pd.read_csv('lyric_df{}.csv'.format(i), index_col = 0, names = ['lyric'], header = 0)\n",
    "    for lyric in lyric_df['lyric']:\n",
    "        lyrics_list.append(lyric)"
   ]
  },
  {
   "cell_type": "code",
   "execution_count": 35,
   "metadata": {},
   "outputs": [],
   "source": [
    "#creates a pandas series with the list of lyrics\n",
    "lyrics = pd.DataFrame(lyrics_list)"
   ]
  },
  {
   "cell_type": "code",
   "execution_count": 37,
   "metadata": {},
   "outputs": [],
   "source": [
    "#read in csv file that has all song info to add lyrics to\n",
    "songs = pd.read_csv('track_links_w_artist.csv', index_col=0, header = 0, names = ['artist', 'artist_uri', 'genre', 'link'])"
   ]
  },
  {
   "cell_type": "code",
   "execution_count": 39,
   "metadata": {},
   "outputs": [],
   "source": [
    "#add lyrics to this dataframe \n",
    "songs['lyrics'] = lyrics"
   ]
  },
  {
   "cell_type": "code",
   "execution_count": 41,
   "metadata": {},
   "outputs": [],
   "source": [
    "# fitler dataset getting rid of songs that we did not get lyrics for\n",
    "songs = songs[songs['lyrics'] != ' <i>Unfortunately, we are not licensed to display the full lyrics for this song at the moment. Hopefully we will be able to in the future. Until then... how about a <a href=\"/wiki/Special:Random\" title=\"Special:Random\">random page</a>?</i>  \\n ']\n",
    "songs = songs[songs['lyrics'] != 'None']\n",
    "songs = songs[songs['lyrics'] != ' <span style=\"padding:1em\"><a class=\"image image-thumbnail link-internal\" href=\"/wiki/Category:Instrumental\" title=\"Instrumental\"><img alt=\"TrebleClef\" class=\"lzy lzyPlcHld\" data-image-key=\"TrebleClef.png\" data-image-name=\"TrebleClef.png\" data-src=\"https://vignette.wikia.nocookie.net/lyricwiki/images/1/1e/TrebleClef.png/revision/latest/scale-to-width-down/30?cb=20090423154754\" height=\"68\" onload=\"if(typeof ImgLzy===\\'object\\'){ImgLzy.load(this)}\" src=\"data:image/gif;base64,R0lGODlhAQABAIABAAAAAP///yH5BAEAAAEALAAAAAABAAEAQAICTAEAOw%3D%3D\" width=\"30\"/><noscript><img alt=\"TrebleClef\" class=\"\" data-image-key=\"TrebleClef.png\" data-image-name=\"TrebleClef.png\" height=\"68\" src=\"https://vignette.wikia.nocookie.net/lyricwiki/images/1/1e/TrebleClef.png/revision/latest/scale-to-width-down/30?cb=20090423154754\" width=\"30\"/></noscript></a></span> <b>Instrumental</b>  \\n ']\n",
    "songs = songs[songs['lyrics'] != '   \\n ']"
   ]
  },
  {
   "cell_type": "code",
   "execution_count": 42,
   "metadata": {},
   "outputs": [],
   "source": [
    "# get rid of any duplicate songs\n",
    "songs = songs.drop_duplicates(subset=['lyrics'], keep='first')"
   ]
  },
  {
   "cell_type": "code",
   "execution_count": 43,
   "metadata": {},
   "outputs": [],
   "source": [
    "#reset our df's index\n",
    "songs.reset_index(inplace = True, drop = True)"
   ]
  },
  {
   "cell_type": "code",
   "execution_count": 46,
   "metadata": {},
   "outputs": [],
   "source": [
    "# read in genres scraped from lyricwiki site to fill in gaps from spotify\n",
    "genres = pd.read_csv('genre2.csv', index_col = 0)"
   ]
  },
  {
   "cell_type": "code",
   "execution_count": 47,
   "metadata": {},
   "outputs": [
    {
     "data": {
      "text/html": [
       "<div>\n",
       "<style scoped>\n",
       "    .dataframe tbody tr th:only-of-type {\n",
       "        vertical-align: middle;\n",
       "    }\n",
       "\n",
       "    .dataframe tbody tr th {\n",
       "        vertical-align: top;\n",
       "    }\n",
       "\n",
       "    .dataframe thead th {\n",
       "        text-align: right;\n",
       "    }\n",
       "</style>\n",
       "<table border=\"1\" class=\"dataframe\">\n",
       "  <thead>\n",
       "    <tr style=\"text-align: right;\">\n",
       "      <th></th>\n",
       "      <th>artists</th>\n",
       "      <th>genres</th>\n",
       "    </tr>\n",
       "  </thead>\n",
       "  <tbody>\n",
       "    <tr>\n",
       "      <th>0</th>\n",
       "      <td>Ariana Grande</td>\n",
       "      <td>['Pop', 'R&amp;B']</td>\n",
       "    </tr>\n",
       "    <tr>\n",
       "      <th>1</th>\n",
       "      <td>Anuel AA</td>\n",
       "      <td>['Trap', 'Reggaeton']</td>\n",
       "    </tr>\n",
       "    <tr>\n",
       "      <th>2</th>\n",
       "      <td>YoungBoy Never Broke Again</td>\n",
       "      <td>Exception</td>\n",
       "    </tr>\n",
       "    <tr>\n",
       "      <th>3</th>\n",
       "      <td>A Boogie Wit da Hoodie</td>\n",
       "      <td>Exception</td>\n",
       "    </tr>\n",
       "    <tr>\n",
       "      <th>4</th>\n",
       "      <td>A$AP Rocky</td>\n",
       "      <td>['Hip Hop']</td>\n",
       "    </tr>\n",
       "    <tr>\n",
       "      <th>...</th>\n",
       "      <td>...</td>\n",
       "      <td>...</td>\n",
       "    </tr>\n",
       "    <tr>\n",
       "      <th>34959</th>\n",
       "      <td>ZooFunktion</td>\n",
       "      <td>Exception</td>\n",
       "    </tr>\n",
       "    <tr>\n",
       "      <th>34960</th>\n",
       "      <td>ZSK</td>\n",
       "      <td>['Punk Rock', 'Skate Punk', 'Deutschpunk']</td>\n",
       "    </tr>\n",
       "    <tr>\n",
       "      <th>34961</th>\n",
       "      <td>ŹOOĻ</td>\n",
       "      <td>Exception</td>\n",
       "    </tr>\n",
       "    <tr>\n",
       "      <th>34962</th>\n",
       "      <td>ZWERVEBENZ</td>\n",
       "      <td>Exception</td>\n",
       "    </tr>\n",
       "    <tr>\n",
       "      <th>34963</th>\n",
       "      <td>ZOLOTO</td>\n",
       "      <td>Exception</td>\n",
       "    </tr>\n",
       "  </tbody>\n",
       "</table>\n",
       "<p>34964 rows × 2 columns</p>\n",
       "</div>"
      ],
      "text/plain": [
       "                          artists                                      genres\n",
       "0                   Ariana Grande                              ['Pop', 'R&B']\n",
       "1                        Anuel AA                       ['Trap', 'Reggaeton']\n",
       "2      YoungBoy Never Broke Again                                   Exception\n",
       "3          A Boogie Wit da Hoodie                                   Exception\n",
       "4                      A$AP Rocky                                 ['Hip Hop']\n",
       "...                           ...                                         ...\n",
       "34959                 ZooFunktion                                   Exception\n",
       "34960                         ZSK  ['Punk Rock', 'Skate Punk', 'Deutschpunk']\n",
       "34961                        ŹOOĻ                                   Exception\n",
       "34962                  ZWERVEBENZ                                   Exception\n",
       "34963                      ZOLOTO                                   Exception\n",
       "\n",
       "[34964 rows x 2 columns]"
      ]
     },
     "execution_count": 47,
     "metadata": {},
     "output_type": "execute_result"
    }
   ],
   "source": [
    "genres"
   ]
  },
  {
   "cell_type": "code",
   "execution_count": 48,
   "metadata": {},
   "outputs": [],
   "source": [
    "#create a data dictionary with artist and corresponding genre\n",
    "genre_dict =  dict(zip(genres['artists'], genres['genres']))"
   ]
  },
  {
   "cell_type": "code",
   "execution_count": 50,
   "metadata": {},
   "outputs": [],
   "source": [
    "# set genre2 column to genre utilizing data dictionary\n",
    "songs['genre2'] = songs['artist'].replace(genre_dict)"
   ]
  },
  {
   "cell_type": "code",
   "execution_count": 51,
   "metadata": {},
   "outputs": [
    {
     "data": {
      "text/html": [
       "<div>\n",
       "<style scoped>\n",
       "    .dataframe tbody tr th:only-of-type {\n",
       "        vertical-align: middle;\n",
       "    }\n",
       "\n",
       "    .dataframe tbody tr th {\n",
       "        vertical-align: top;\n",
       "    }\n",
       "\n",
       "    .dataframe thead th {\n",
       "        text-align: right;\n",
       "    }\n",
       "</style>\n",
       "<table border=\"1\" class=\"dataframe\">\n",
       "  <thead>\n",
       "    <tr style=\"text-align: right;\">\n",
       "      <th></th>\n",
       "      <th>artist</th>\n",
       "      <th>artist_uri</th>\n",
       "      <th>genre</th>\n",
       "      <th>link</th>\n",
       "      <th>lyrics</th>\n",
       "      <th>genre2</th>\n",
       "    </tr>\n",
       "  </thead>\n",
       "  <tbody>\n",
       "    <tr>\n",
       "      <th>0</th>\n",
       "      <td>Ariana Grande</td>\n",
       "      <td>66CXWjxzNUsdJxJ2JdwvnR</td>\n",
       "      <td>['dance pop', 'pop', 'post-teen pop']</td>\n",
       "      <td>/wiki/Ariana_Grande:Honeymoon_Avenue</td>\n",
       "      <td>I looked in my rearview mirror, (ah) and it s...</td>\n",
       "      <td>['Pop', 'R&amp;B']</td>\n",
       "    </tr>\n",
       "    <tr>\n",
       "      <th>1</th>\n",
       "      <td>Ariana Grande</td>\n",
       "      <td>66CXWjxzNUsdJxJ2JdwvnR</td>\n",
       "      <td>['dance pop', 'pop', 'post-teen pop']</td>\n",
       "      <td>/wiki/Ariana_Grande:Baby_I</td>\n",
       "      <td>Baby, I got love for thee so deep inside of m...</td>\n",
       "      <td>['Pop', 'R&amp;B']</td>\n",
       "    </tr>\n",
       "    <tr>\n",
       "      <th>2</th>\n",
       "      <td>Ariana Grande</td>\n",
       "      <td>66CXWjxzNUsdJxJ2JdwvnR</td>\n",
       "      <td>['dance pop', 'pop', 'post-teen pop']</td>\n",
       "      <td>/wiki/Ariana_Grande:Right_There</td>\n",
       "      <td>(If you wanna party, if you, if you wanna par...</td>\n",
       "      <td>['Pop', 'R&amp;B']</td>\n",
       "    </tr>\n",
       "    <tr>\n",
       "      <th>3</th>\n",
       "      <td>Ariana Grande</td>\n",
       "      <td>66CXWjxzNUsdJxJ2JdwvnR</td>\n",
       "      <td>['dance pop', 'pop', 'post-teen pop']</td>\n",
       "      <td>/wiki/Ariana_Grande:Tattooed_Heart</td>\n",
       "      <td>(Sha-la-la-la-la-la-la...)&lt;br/&gt;You don't need...</td>\n",
       "      <td>['Pop', 'R&amp;B']</td>\n",
       "    </tr>\n",
       "    <tr>\n",
       "      <th>4</th>\n",
       "      <td>Ariana Grande</td>\n",
       "      <td>66CXWjxzNUsdJxJ2JdwvnR</td>\n",
       "      <td>['dance pop', 'pop', 'post-teen pop']</td>\n",
       "      <td>/wiki/Ariana_Grande:Lovin%27_It</td>\n",
       "      <td>Baby, don't you know you got all my love, all...</td>\n",
       "      <td>['Pop', 'R&amp;B']</td>\n",
       "    </tr>\n",
       "    <tr>\n",
       "      <th>...</th>\n",
       "      <td>...</td>\n",
       "      <td>...</td>\n",
       "      <td>...</td>\n",
       "      <td>...</td>\n",
       "      <td>...</td>\n",
       "      <td>...</td>\n",
       "    </tr>\n",
       "    <tr>\n",
       "      <th>508358</th>\n",
       "      <td>Zaz</td>\n",
       "      <td>7G5hZmmEd71pbEqiBNWp8A</td>\n",
       "      <td>[]</td>\n",
       "      <td>/wiki/Zaz:Saint_Valentin</td>\n",
       "      <td>J’irai dans un bar ce soir&lt;br/&gt;Aujourd’hui c’...</td>\n",
       "      <td>['Singer-Songwriter', 'Chanson', 'Jazz', 'Ball...</td>\n",
       "    </tr>\n",
       "    <tr>\n",
       "      <th>508359</th>\n",
       "      <td>Zaz</td>\n",
       "      <td>7G5hZmmEd71pbEqiBNWp8A</td>\n",
       "      <td>[]</td>\n",
       "      <td>/wiki/Zaz:Laponie</td>\n",
       "      <td>Je pars en Laponie&lt;br/&gt;Nayah me demande si c’...</td>\n",
       "      <td>['Singer-Songwriter', 'Chanson', 'Jazz', 'Ball...</td>\n",
       "    </tr>\n",
       "    <tr>\n",
       "      <th>508360</th>\n",
       "      <td>Zivert</td>\n",
       "      <td>2sIoREZzgRTr0BdPDvZZSG</td>\n",
       "      <td>[]</td>\n",
       "      <td>/wiki/Zivert:%D0%95%D1%89%D1%91_%D0%A5%D0%BE%D...</td>\n",
       "      <td>От жажды невыносимо&lt;br/&gt;Интерес лишь спортивн...</td>\n",
       "      <td>['Pop']</td>\n",
       "    </tr>\n",
       "    <tr>\n",
       "      <th>508361</th>\n",
       "      <td>Zivert</td>\n",
       "      <td>2sIoREZzgRTr0BdPDvZZSG</td>\n",
       "      <td>[]</td>\n",
       "      <td>/wiki/Zivert:%D0%97%D0%B5%D0%BB%D1%91%D0%BD%D1...</td>\n",
       "      <td>Там, где не было солнца - там будет рассвет.&lt;...</td>\n",
       "      <td>['Pop']</td>\n",
       "    </tr>\n",
       "    <tr>\n",
       "      <th>508362</th>\n",
       "      <td>Zivert</td>\n",
       "      <td>2sIoREZzgRTr0BdPDvZZSG</td>\n",
       "      <td>[]</td>\n",
       "      <td>/wiki/Zivert:%D0%A1%D0%B8%D1%8F%D0%B9</td>\n",
       "      <td>В эту ночь сияет ярче звёзд Луна.&lt;br/&gt;Нужен o...</td>\n",
       "      <td>['Pop']</td>\n",
       "    </tr>\n",
       "  </tbody>\n",
       "</table>\n",
       "<p>508363 rows × 6 columns</p>\n",
       "</div>"
      ],
      "text/plain": [
       "               artist              artist_uri  \\\n",
       "0       Ariana Grande  66CXWjxzNUsdJxJ2JdwvnR   \n",
       "1       Ariana Grande  66CXWjxzNUsdJxJ2JdwvnR   \n",
       "2       Ariana Grande  66CXWjxzNUsdJxJ2JdwvnR   \n",
       "3       Ariana Grande  66CXWjxzNUsdJxJ2JdwvnR   \n",
       "4       Ariana Grande  66CXWjxzNUsdJxJ2JdwvnR   \n",
       "...               ...                     ...   \n",
       "508358            Zaz  7G5hZmmEd71pbEqiBNWp8A   \n",
       "508359            Zaz  7G5hZmmEd71pbEqiBNWp8A   \n",
       "508360         Zivert  2sIoREZzgRTr0BdPDvZZSG   \n",
       "508361         Zivert  2sIoREZzgRTr0BdPDvZZSG   \n",
       "508362         Zivert  2sIoREZzgRTr0BdPDvZZSG   \n",
       "\n",
       "                                        genre  \\\n",
       "0       ['dance pop', 'pop', 'post-teen pop']   \n",
       "1       ['dance pop', 'pop', 'post-teen pop']   \n",
       "2       ['dance pop', 'pop', 'post-teen pop']   \n",
       "3       ['dance pop', 'pop', 'post-teen pop']   \n",
       "4       ['dance pop', 'pop', 'post-teen pop']   \n",
       "...                                       ...   \n",
       "508358                                     []   \n",
       "508359                                     []   \n",
       "508360                                     []   \n",
       "508361                                     []   \n",
       "508362                                     []   \n",
       "\n",
       "                                                     link  \\\n",
       "0                    /wiki/Ariana_Grande:Honeymoon_Avenue   \n",
       "1                              /wiki/Ariana_Grande:Baby_I   \n",
       "2                         /wiki/Ariana_Grande:Right_There   \n",
       "3                      /wiki/Ariana_Grande:Tattooed_Heart   \n",
       "4                         /wiki/Ariana_Grande:Lovin%27_It   \n",
       "...                                                   ...   \n",
       "508358                           /wiki/Zaz:Saint_Valentin   \n",
       "508359                                  /wiki/Zaz:Laponie   \n",
       "508360  /wiki/Zivert:%D0%95%D1%89%D1%91_%D0%A5%D0%BE%D...   \n",
       "508361  /wiki/Zivert:%D0%97%D0%B5%D0%BB%D1%91%D0%BD%D1...   \n",
       "508362              /wiki/Zivert:%D0%A1%D0%B8%D1%8F%D0%B9   \n",
       "\n",
       "                                                   lyrics  \\\n",
       "0        I looked in my rearview mirror, (ah) and it s...   \n",
       "1        Baby, I got love for thee so deep inside of m...   \n",
       "2        (If you wanna party, if you, if you wanna par...   \n",
       "3        (Sha-la-la-la-la-la-la...)<br/>You don't need...   \n",
       "4        Baby, don't you know you got all my love, all...   \n",
       "...                                                   ...   \n",
       "508358   J’irai dans un bar ce soir<br/>Aujourd’hui c’...   \n",
       "508359   Je pars en Laponie<br/>Nayah me demande si c’...   \n",
       "508360   От жажды невыносимо<br/>Интерес лишь спортивн...   \n",
       "508361   Там, где не было солнца - там будет рассвет.<...   \n",
       "508362   В эту ночь сияет ярче звёзд Луна.<br/>Нужен o...   \n",
       "\n",
       "                                                   genre2  \n",
       "0                                          ['Pop', 'R&B']  \n",
       "1                                          ['Pop', 'R&B']  \n",
       "2                                          ['Pop', 'R&B']  \n",
       "3                                          ['Pop', 'R&B']  \n",
       "4                                          ['Pop', 'R&B']  \n",
       "...                                                   ...  \n",
       "508358  ['Singer-Songwriter', 'Chanson', 'Jazz', 'Ball...  \n",
       "508359  ['Singer-Songwriter', 'Chanson', 'Jazz', 'Ball...  \n",
       "508360                                            ['Pop']  \n",
       "508361                                            ['Pop']  \n",
       "508362                                            ['Pop']  \n",
       "\n",
       "[508363 rows x 6 columns]"
      ]
     },
     "execution_count": 51,
     "metadata": {},
     "output_type": "execute_result"
    }
   ],
   "source": [
    "songs"
   ]
  },
  {
   "cell_type": "markdown",
   "metadata": {},
   "source": [
    "from here we will wittle down genres into 4 main categories for each genre column and then replace any missing values that we find if it was succesfully scraped from the lyric wiki site"
   ]
  },
  {
   "cell_type": "code",
   "execution_count": 52,
   "metadata": {},
   "outputs": [],
   "source": [
    "# save each rows more general genre into list\n",
    "genre_mappings = []"
   ]
  },
  {
   "cell_type": "code",
   "execution_count": 53,
   "metadata": {},
   "outputs": [],
   "source": [
    "# loop through genre2 column and generalize genres \n",
    "for genre in songs['genre2']:\n",
    "    if 'country' in genre.lower():\n",
    "        genre_mappings.append('Country/Folk')\n",
    "    elif 'hip hop' in genre.lower():\n",
    "        genre_mappings.append('Hip-Hop/Rap')\n",
    "    elif 'rap' in genre.lower():\n",
    "        genre_mappings.append('Hip-Hop/Rap')\n",
    "    elif 'pop' in genre.lower():\n",
    "        genre_mappings.append('Pop/R&B')\n",
    "    elif 'rock' in genre.lower():\n",
    "        genre_mappings.append('Rock/Metal')\n",
    "    elif 'metal' in genre.lower():\n",
    "        genre_mappings.append('Rock/Metal')\n",
    "    elif 'punk' in genre.lower():\n",
    "        genre_mappings.append('Rock/Metal')\n",
    "    elif 'indie' in genre.lower():\n",
    "        genre_mappings.append('Rock/Metal')\n",
    "    elif 'folk' in genre.lower():\n",
    "        genre_mappings.append('Country/Folk')\n",
    "    elif 'r&b' in genre.lower():\n",
    "        genre_mappings.append('Pop/R&B')\n",
    "    elif genre == 'Exception':\n",
    "        genre_mappings.append('Exception')\n",
    "    else:\n",
    "        genre_mappings.append('Other')        "
   ]
  },
  {
   "cell_type": "code",
   "execution_count": 54,
   "metadata": {},
   "outputs": [],
   "source": [
    "#replace genre with mapped genres\n",
    "songs['genre2'] = genre_mappings"
   ]
  },
  {
   "cell_type": "markdown",
   "metadata": {},
   "source": [
    "we will do the same for the genre column as well"
   ]
  },
  {
   "cell_type": "code",
   "execution_count": 56,
   "metadata": {},
   "outputs": [],
   "source": [
    "genre_mappings = []"
   ]
  },
  {
   "cell_type": "code",
   "execution_count": 57,
   "metadata": {},
   "outputs": [],
   "source": [
    "for genre in songs['genre']:\n",
    "    if 'country' in genre.lower():\n",
    "        genre_mappings.append('Country/Folk')\n",
    "    elif 'hip hop' in genre.lower():\n",
    "        genre_mappings.append('Hip-Hop/Rap')\n",
    "    elif 'rap' in genre.lower():\n",
    "        genre_mappings.append('Hip-Hop/Rap')\n",
    "    elif 'pop' in genre.lower():\n",
    "        genre_mappings.append('Pop/R&B')\n",
    "    elif 'rock' in genre.lower():\n",
    "        genre_mappings.append('Rock/Metal')\n",
    "    elif 'metal' in genre.lower():\n",
    "        genre_mappings.append('Rock/Metal')\n",
    "    elif 'punk' in genre.lower():\n",
    "        genre_mappings.append('Rock/Metal')\n",
    "    elif 'indie' in genre.lower():\n",
    "        genre_mappings.append('Rock/Metal')\n",
    "    elif 'folk' in genre.lower():\n",
    "        genre_mappings.append('Country/Folk')\n",
    "    elif 'r&b' in genre.lower():\n",
    "        genre_mappings.append('Pop/R&B')\n",
    "    elif genre == '[]':\n",
    "        genre_mappings.append('Error')\n",
    "    else:\n",
    "        genre_mappings.append('Other') "
   ]
  },
  {
   "cell_type": "code",
   "execution_count": 58,
   "metadata": {},
   "outputs": [],
   "source": [
    "songs['genre'] = genre_mappings"
   ]
  },
  {
   "cell_type": "markdown",
   "metadata": {},
   "source": [
    "now we will replace any unknown genre or errors we got from spotify with the scraped lyricwiki genres"
   ]
  },
  {
   "cell_type": "code",
   "execution_count": 59,
   "metadata": {},
   "outputs": [],
   "source": [
    "songs['genre'] = np.where(songs['genre'] == 'Error', songs['genre2'], songs['genre'])"
   ]
  },
  {
   "cell_type": "code",
   "execution_count": 60,
   "metadata": {},
   "outputs": [],
   "source": [
    "songs['genre'] = np.where(songs['genre'] == 'Other', songs['genre2'], songs['genre'])"
   ]
  },
  {
   "cell_type": "code",
   "execution_count": 62,
   "metadata": {},
   "outputs": [
    {
     "data": {
      "text/plain": [
       "Pop/R&B         160407\n",
       "Rock/Metal      116089\n",
       "Exception        78235\n",
       "Hip-Hop/Rap      77605\n",
       "Country/Folk     47716\n",
       "Other            28311\n",
       "Name: genre, dtype: int64"
      ]
     },
     "execution_count": 62,
     "metadata": {},
     "output_type": "execute_result"
    }
   ],
   "source": [
    "songs['genre'].value_counts()"
   ]
  },
  {
   "cell_type": "markdown",
   "metadata": {},
   "source": [
    "we will now get rid of any instances in our dataframe where we either do not have a genre or they fall outside of our genre classifications"
   ]
  },
  {
   "cell_type": "code",
   "execution_count": 63,
   "metadata": {},
   "outputs": [],
   "source": [
    "songs = songs[(songs['genre'] != 'Other') & (songs['genre'] != 'Exception')]"
   ]
  },
  {
   "cell_type": "code",
   "execution_count": 64,
   "metadata": {},
   "outputs": [],
   "source": [
    "songs.reset_index(inplace = True, drop = True)"
   ]
  },
  {
   "cell_type": "code",
   "execution_count": 66,
   "metadata": {},
   "outputs": [],
   "source": [
    "#export final dataframe to be modeled on\n",
    "songs.to_csv('final_df.csv')"
   ]
  },
  {
   "cell_type": "code",
   "execution_count": null,
   "metadata": {},
   "outputs": [],
   "source": []
  }
 ],
 "metadata": {
  "kernelspec": {
   "display_name": "Python 3",
   "language": "python",
   "name": "python3"
  },
  "language_info": {
   "codemirror_mode": {
    "name": "ipython",
    "version": 3
   },
   "file_extension": ".py",
   "mimetype": "text/x-python",
   "name": "python",
   "nbconvert_exporter": "python",
   "pygments_lexer": "ipython3",
   "version": "3.7.6"
  }
 },
 "nbformat": 4,
 "nbformat_minor": 4
}
