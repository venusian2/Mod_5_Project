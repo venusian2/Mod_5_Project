{
 "cells": [
  {
   "cell_type": "code",
   "execution_count": 1,
   "metadata": {},
   "outputs": [],
   "source": [
    "import pandas as pd\n",
    "import numpy as np\n",
    "from functions import *"
   ]
  },
  {
   "cell_type": "code",
   "execution_count": 2,
   "metadata": {},
   "outputs": [],
   "source": [
    "df = pd.read_csv('df_w_spacy.csv', index_col = 0)"
   ]
  },
  {
   "cell_type": "code",
   "execution_count": 6,
   "metadata": {
    "scrolled": true
   },
   "outputs": [
    {
     "data": {
      "text/plain": [
       "Pop/R&B         160407\n",
       "Rock/Metal      116089\n",
       "Hip-Hop/Rap      77605\n",
       "Country/Folk     47716\n",
       "Name: genre, dtype: int64"
      ]
     },
     "execution_count": 6,
     "metadata": {},
     "output_type": "execute_result"
    }
   ],
   "source": [
    "# inspect the class balance one more time\n",
    "df['genre'].value_counts()"
   ]
  },
  {
   "cell_type": "code",
   "execution_count": 7,
   "metadata": {},
   "outputs": [],
   "source": [
    "def get_corpus(column):\n",
    "    genre_list = column.to_list()\n",
    "    all_genre = ' '.join(genre_list).split(' ')\n",
    "    genre_corp = ' '.join(all_genre)\n",
    "    \n",
    "    return genre_corp   "
   ]
  },
  {
   "cell_type": "code",
   "execution_count": 8,
   "metadata": {},
   "outputs": [],
   "source": [
    "full_corpus = get_corpus(df['clean_lyrics'])"
   ]
  },
  {
   "cell_type": "code",
   "execution_count": 10,
   "metadata": {},
   "outputs": [
    {
     "name": "stdout",
     "output_type": "stream",
     "text": [
      "6843 unique characters\n"
     ]
    }
   ],
   "source": [
    "# The unique characters in the file, many of our lyrics have random characters we do not want\n",
    "# we will remove them so that it makes our model easier\n",
    "vocab = sorted(set(full_corpus))\n",
    "print ('{} unique characters'.format(len(vocab)))"
   ]
  },
  {
   "cell_type": "code",
   "execution_count": 15,
   "metadata": {},
   "outputs": [],
   "source": [
    "# define the only characters that we want in our corpus, will be used to find songs with only these characters\n",
    "good = ['\\n', ' ', 'a', 'b', 'c', 'd', 'e', 'f', 'g', 'h', 'i', 'j', 'k','l',\n",
    "        'm', 'n', 'o', 'p', 'q', 'r', 's', 't', 'u', 'v', 'w', 'x', 'y', 'z']"
   ]
  },
  {
   "cell_type": "code",
   "execution_count": 16,
   "metadata": {},
   "outputs": [],
   "source": [
    "#initialize a bad character list\n",
    "bad = []"
   ]
  },
  {
   "cell_type": "code",
   "execution_count": 17,
   "metadata": {},
   "outputs": [],
   "source": [
    "# get a list of characters we dont want to pop up in corpus\n",
    "for char in vocab:\n",
    "    if char in good:\n",
    "        continue\n",
    "    else:\n",
    "        bad.append(char)"
   ]
  },
  {
   "cell_type": "code",
   "execution_count": 18,
   "metadata": {},
   "outputs": [],
   "source": [
    "# loop through every song and if a bad character shows up assign True or False to 'pass' column\n",
    "df['pass'] = df['better_lyrics'].apply(lambda x: any(ele in x for ele in bad))"
   ]
  },
  {
   "cell_type": "code",
   "execution_count": 19,
   "metadata": {},
   "outputs": [],
   "source": [
    "# limit our df to only songs that have good characters\n",
    "df = df[df['pass'] == False]"
   ]
  },
  {
   "cell_type": "code",
   "execution_count": 21,
   "metadata": {},
   "outputs": [
    {
     "data": {
      "text/plain": [
       "(348834, 15)"
      ]
     },
     "execution_count": 21,
     "metadata": {},
     "output_type": "execute_result"
    }
   ],
   "source": [
    "df.shape"
   ]
  },
  {
   "cell_type": "markdown",
   "metadata": {},
   "source": [
    "## Downsample\n",
    "#### We found out pretty early that if we use too many songs it will really slow down our rnn, we will limit the max amount of songs allowed in corpus to 25,000. this will give us enought time to create a neural net and then try to tune our parameters"
   ]
  },
  {
   "cell_type": "code",
   "execution_count": 25,
   "metadata": {},
   "outputs": [],
   "source": [
    "# set up dataframes by genre to downsample (we will downsample to 25,000)\n",
    "Country_df = df[df['genre'] == 'Country/Folk']\n",
    "Pop_df = df[df['genre'] == 'Pop/R&B']\n",
    "Rock_df = df[df['genre'] == 'Rock/Metal']\n",
    "Rap_df = df[df['genre'] == 'Hip-Hop/Rap']"
   ]
  },
  {
   "cell_type": "code",
   "execution_count": 28,
   "metadata": {},
   "outputs": [],
   "source": [
    "# downsample pop genre\n",
    "Pop_downsampled = resample(Pop_df,\n",
    "                           replace = False, # sample without replacement\n",
    "                           n_samples = 25000, # match minority n\n",
    "                           random_state = 333) # reproducible results"
   ]
  },
  {
   "cell_type": "code",
   "execution_count": 29,
   "metadata": {},
   "outputs": [],
   "source": [
    "# downsample country genre\n",
    "Country_downsampled = resample(Country_df,\n",
    "                               replace = False, # sample without replacement\n",
    "                               n_samples = 25000, # match minority n\n",
    "                               random_state = 333) # reproducible results"
   ]
  },
  {
   "cell_type": "code",
   "execution_count": 30,
   "metadata": {},
   "outputs": [],
   "source": [
    "# downsample rock genre\n",
    "Rock_downsampled = resample(Rock_df,\n",
    "                            replace = False, # sample without replacement\n",
    "                            n_samples = 25000, # match minority n\n",
    "                            random_state = 333) # reproducible results"
   ]
  },
  {
   "cell_type": "code",
   "execution_count": 31,
   "metadata": {},
   "outputs": [],
   "source": [
    "# downsample rap genre\n",
    "Rap_downsampled = resample(Rap_df,\n",
    "                           replace = False, # sample without replacement\n",
    "                           n_samples = 25000, # match minority n\n",
    "                           random_state = 333) # reproducible results"
   ]
  },
  {
   "cell_type": "markdown",
   "metadata": {},
   "source": [
    "### we will now create a corpus based on each genre and export the text to be used with our rnn"
   ]
  },
  {
   "cell_type": "code",
   "execution_count": 65,
   "metadata": {},
   "outputs": [],
   "source": [
    "rap_corp = get_corpus(Rap_downsampled['better_lyrics'])\n",
    "\n",
    "text_file = open(\"rap_corpus.txt\", \"w\")\n",
    "n = text_file.write(rap_corp)\n",
    "text_file.close()"
   ]
  },
  {
   "cell_type": "code",
   "execution_count": 65,
   "metadata": {},
   "outputs": [],
   "source": [
    "rock_corp = get_corpus(Rock_downsampled['better_lyrics'])\n",
    "\n",
    "text_file = open(\"rock_corpus.txt\", \"w\")\n",
    "n = text_file.write(rock_corp)\n",
    "text_file.close()"
   ]
  },
  {
   "cell_type": "code",
   "execution_count": 65,
   "metadata": {},
   "outputs": [],
   "source": [
    "country_corp = get_corpus(Country_downsampled['better_lyrics'])\n",
    "\n",
    "text_file = open(\"country_corpus.txt\", \"w\")\n",
    "n = text_file.write(country_corp)\n",
    "text_file.close()"
   ]
  },
  {
   "cell_type": "code",
   "execution_count": 65,
   "metadata": {},
   "outputs": [],
   "source": [
    "pop_corp = get_corpus(Pop_downsampled['better_lyrics'])\n",
    "\n",
    "text_file = open(\"pop_corpus.txt\", \"w\")\n",
    "n = text_file.write(pop_corp)\n",
    "text_file.close()"
   ]
  }
 ],
 "metadata": {
  "kernelspec": {
   "display_name": "Python 3",
   "language": "python",
   "name": "python3"
  },
  "language_info": {
   "codemirror_mode": {
    "name": "ipython",
    "version": 3
   },
   "file_extension": ".py",
   "mimetype": "text/x-python",
   "name": "python",
   "nbconvert_exporter": "python",
   "pygments_lexer": "ipython3",
   "version": "3.7.6"
  }
 },
 "nbformat": 4,
 "nbformat_minor": 4
}
