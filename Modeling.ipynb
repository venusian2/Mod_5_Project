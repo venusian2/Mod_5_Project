{
 "cells": [
  {
   "cell_type": "code",
   "execution_count": 1,
   "metadata": {},
   "outputs": [],
   "source": [
    "from sklearn.feature_extraction.text import CountVectorizer, TfidfVectorizer\n",
    "from nltk import word_tokenize\n",
    "from sklearn.utils import resample\n",
    "from sklearn.tree import DecisionTreeClassifier\n",
    "from sklearn.dummy import DummyClassifier\n",
    "from sklearn.ensemble import RandomForestClassifier\n",
    "from sklearn.naive_bayes import MultinomialNB\n",
    "from sklearn.svm import SVC\n",
    "from sklearn.model_selection import train_test_split, cross_val_score\n",
    "from sklearn.metrics import accuracy_score, confusion_matrix, f1_score, recall_score, classification_report\n",
    "from sklearn.preprocessing import StandardScaler, MinMaxScaler\n",
    "from sklearn.model_selection import GridSearchCV\n",
    "import pandas as pd\n",
    "import numpy as np\n",
    "import matplotlib.pyplot as plt\n",
    "from nltk.corpus import stopwords\n",
    "import string\n",
    "import spacy\n",
    "import pickle\n",
    "import itertools\n",
    "import seaborn as sns\n",
    "import time\n",
    "from tqdm import tqdm"
   ]
  },
  {
   "cell_type": "markdown",
   "metadata": {},
   "source": [
    "## Use Spacy to vectorize lyrics"
   ]
  },
  {
   "cell_type": "code",
   "execution_count": 2,
   "metadata": {},
   "outputs": [],
   "source": [
    "nlp = spacy.load('en_core_web_md')"
   ]
  },
  {
   "cell_type": "code",
   "execution_count": 3,
   "metadata": {},
   "outputs": [
    {
     "name": "stderr",
     "output_type": "stream",
     "text": [
      "/opt/anaconda3/lib/python3.7/site-packages/tqdm/std.py:658: FutureWarning: The Panel class is removed from pandas. Accessing it from the top-level namespace will also be removed in the next version\n",
      "  from pandas import Panel\n"
     ]
    }
   ],
   "source": [
    "tqdm.pandas()"
   ]
  },
  {
   "cell_type": "code",
   "execution_count": 5,
   "metadata": {
    "scrolled": true
   },
   "outputs": [
    {
     "name": "stderr",
     "output_type": "stream",
     "text": [
      "100%|██████████| 348834/348834 [2:13:23<00:00, 43.59it/s]  \n"
     ]
    }
   ],
   "source": [
    "df['spacy'] = df.clean_lyrics.progress_apply(lambda x: nlp(x))"
   ]
  },
  {
   "cell_type": "code",
   "execution_count": 8,
   "metadata": {},
   "outputs": [],
   "source": [
    "#save dataframe with spacy column\n",
    "df.to_csv('df_w_spacy.csv')"
   ]
  },
  {
   "cell_type": "code",
   "execution_count": 6,
   "metadata": {},
   "outputs": [],
   "source": [
    "#get vector representation for lyrics utilizing spacy\n",
    "spacy_df = pd.DataFrame(np.vstack([x.vector for x in df.spacy]))"
   ]
  },
  {
   "cell_type": "code",
   "execution_count": 7,
   "metadata": {},
   "outputs": [],
   "source": [
    "#save dataframe in case of kernel failure\n",
    "spacy_df.to_csv('spacy_df.csv')"
   ]
  },
  {
   "cell_type": "markdown",
   "metadata": {},
   "source": [
    "## Load Dataframes"
   ]
  },
  {
   "cell_type": "code",
   "execution_count": 2,
   "metadata": {},
   "outputs": [],
   "source": [
    "df = pd.read_csv('modeling_df.csv', index_col = 0)"
   ]
  },
  {
   "cell_type": "code",
   "execution_count": 3,
   "metadata": {},
   "outputs": [],
   "source": [
    "spacy_df = pd.read_csv('spacy_df.csv', index_col = 0)"
   ]
  },
  {
   "cell_type": "markdown",
   "metadata": {},
   "source": [
    "## Checking Class Balance"
   ]
  },
  {
   "cell_type": "code",
   "execution_count": 4,
   "metadata": {},
   "outputs": [
    {
     "data": {
      "text/plain": [
       "Pop/R&B         0.383813\n",
       "Rock/Metal      0.298824\n",
       "Hip-Hop/Rap     0.191965\n",
       "Country/Folk    0.125398\n",
       "Name: genre, dtype: float64"
      ]
     },
     "execution_count": 4,
     "metadata": {},
     "output_type": "execute_result"
    }
   ],
   "source": [
    "# check out the class balance\n",
    "df['genre'].value_counts(normalize=True)"
   ]
  },
  {
   "cell_type": "markdown",
   "metadata": {},
   "source": [
    "There is a bit of a class imbalance here, the Pop/R&B genre outweighs all other genres. We will downsample here for two reasons. First this will help alleviate the class imbalance issue and second it will help the models fit quicker as the decision tree/random forest took hours to fit to the training set with the full dataframe."
   ]
  },
  {
   "cell_type": "markdown",
   "metadata": {},
   "source": [
    "### StopWords"
   ]
  },
  {
   "cell_type": "code",
   "execution_count": 5,
   "metadata": {
    "scrolled": false
   },
   "outputs": [],
   "source": [
    "# create stopwords and update as spacy lemmatizer converts all pronouns (i, we, us, etc..) to -PRON-\n",
    "stopwords_list = stopwords.words('english')+['pron', '-PRON-', 'br']"
   ]
  },
  {
   "cell_type": "code",
   "execution_count": 75,
   "metadata": {},
   "outputs": [],
   "source": [
    "def plot_confusion_matrix(cm, classes,\n",
    "                          normalize=False,\n",
    "                          title='Confusion matrix',\n",
    "                          cmap=plt.cm.Blues):\n",
    "    \"\"\"\n",
    "    This function prints and plots the confusion matrix.\n",
    "    Normalization can be applied by setting `normalize=True`.\n",
    "    \"\"\"\n",
    "    if normalize:\n",
    "        cm = cm.astype('float') / cm.sum(axis=1)[:, np.newaxis]\n",
    "        print(\"Normalized confusion matrix\")\n",
    "    else:\n",
    "        print('Confusion Matrix, without normalization')\n",
    "\n",
    "    print(cm)\n",
    "\n",
    "    plt.imshow(cm, interpolation='nearest', cmap=cmap)\n",
    "    plt.title(title)\n",
    "    tick_marks = np.arange(len(classes))\n",
    "    plt.xticks(tick_marks, classes, rotation=45)\n",
    "    plt.yticks(tick_marks, classes, rotation=45)\n",
    "    \n",
    "    fmt = '.2f' if normalize else 'd'\n",
    "    thresh = cm.max() / 2.\n",
    "    for i, j in itertools.product(range(cm.shape[0]), range(cm.shape[1])):\n",
    "        plt.text(j, i, format(cm[i, j], fmt),\n",
    "                 horizontalalignment=\"center\",\n",
    "                 color=\"white\" if cm[i, j] > thresh else \"black\")\n",
    "\n",
    "\n",
    "\n",
    "    plt.tight_layout()\n",
    "    plt.ylabel('True label')\n",
    "    plt.xlabel('Predicted label')"
   ]
  },
  {
   "cell_type": "markdown",
   "metadata": {},
   "source": [
    "# Modeling"
   ]
  },
  {
   "cell_type": "markdown",
   "metadata": {},
   "source": [
    "## Baseline"
   ]
  },
  {
   "cell_type": "markdown",
   "metadata": {},
   "source": [
    "From checking our classes we have shown that our classes are a bit imbalanced. we will fit a dummy classifier to get a baseline model after downsampling our classes."
   ]
  },
  {
   "cell_type": "code",
   "execution_count": 60,
   "metadata": {},
   "outputs": [],
   "source": [
    "# set datframe for dummyclassifier\n",
    "X = df\n",
    "\n",
    "# Create target variable for dummyclassifier\n",
    "y = df['genre']\n",
    "\n",
    "# setting up testing and training sets\n",
    "X_train, X_test, y_train, y_test = train_test_split(X, y, random_state=333)"
   ]
  },
  {
   "cell_type": "markdown",
   "metadata": {},
   "source": [
    "## Downsample training set"
   ]
  },
  {
   "cell_type": "code",
   "execution_count": 61,
   "metadata": {},
   "outputs": [],
   "source": [
    "# set up dataframes by genre to downsample (we will downsample to size of Country_df)\n",
    "Country_df = X_train[X_train['genre'] == 'Country/Folk']\n",
    "Pop_df = X_train[X_train['genre'] == 'Pop/R&B']\n",
    "Rock_df = X_train[X_train['genre'] == 'Rock/Metal']\n",
    "Rap_df = X_train[X_train['genre'] == 'Hip-Hop/Rap']"
   ]
  },
  {
   "cell_type": "code",
   "execution_count": 62,
   "metadata": {},
   "outputs": [],
   "source": [
    "# downsample pop genre\n",
    "Pop_downsampled = resample(Pop_df,\n",
    "                           replace = False, # sample without replacement\n",
    "                           n_samples = len(Country_df), # match minority n\n",
    "                           random_state = 333) # reproducible results"
   ]
  },
  {
   "cell_type": "code",
   "execution_count": 63,
   "metadata": {},
   "outputs": [],
   "source": [
    "# downsample rep genre\n",
    "Rap_downsampled = resample(Rap_df,\n",
    "                           replace = False, # sample without replacement\n",
    "                           n_samples = len(Country_df), # match minority n\n",
    "                           random_state = 333) # reproducible results"
   ]
  },
  {
   "cell_type": "code",
   "execution_count": 64,
   "metadata": {},
   "outputs": [],
   "source": [
    "# downsample rock genre\n",
    "Rock_downsampled = resample(Rock_df,\n",
    "                            replace = False, # sample without replacement\n",
    "                            n_samples = len(Country_df), # match minority n\n",
    "                            random_state = 333) # reproducible results"
   ]
  },
  {
   "cell_type": "code",
   "execution_count": 65,
   "metadata": {},
   "outputs": [],
   "source": [
    "# combine dataframes for modeling\n",
    "# combine minority and downsampled genres\n",
    "downsampled = pd.concat([Pop_downsampled, Country_df, Rock_downsampled, Rap_downsampled])"
   ]
  },
  {
   "cell_type": "markdown",
   "metadata": {},
   "source": [
    "### Fit dummy classifier"
   ]
  },
  {
   "cell_type": "code",
   "execution_count": 66,
   "metadata": {},
   "outputs": [],
   "source": [
    "downsampled.reset_index(drop = True, inplace = True)\n",
    "test_x = X_test.reset_index(drop = True)\n",
    "test_y = y_test.reset_index(drop = True)"
   ]
  },
  {
   "cell_type": "code",
   "execution_count": 67,
   "metadata": {},
   "outputs": [],
   "source": [
    "y_train = downsampled['genre']\n",
    "X_train = downsampled.drop(['genre'], axis = 1)\n",
    "\n",
    "y_test = test_y\n",
    "X_test = test_x.drop(['genre'], axis = 1)"
   ]
  },
  {
   "cell_type": "code",
   "execution_count": 68,
   "metadata": {},
   "outputs": [],
   "source": [
    "# DummyClassifier to predict only most frequent class\n",
    "dummy = DummyClassifier(strategy='uniform').fit(X_train, y_train)\n",
    "dummy_pred_test = dummy.predict(X_test)"
   ]
  },
  {
   "cell_type": "code",
   "execution_count": 69,
   "metadata": {},
   "outputs": [
    {
     "name": "stdout",
     "output_type": "stream",
     "text": [
      "Test Accuracy score:  0.250478734992948\n",
      "\n",
      "Test F1 score:  0.24015296209533898\n",
      "\n",
      "Confusion matrix test set: \n",
      " [[2747 2726 2732 2699]\n",
      " [4287 4213 4151 4172]\n",
      " [8245 8399 8458 8250]\n",
      " [6642 6486 6576 6426]]\n"
     ]
    }
   ],
   "source": [
    "# checking accuracy\n",
    "print('Test Accuracy score: ', accuracy_score(dummy_pred_test, y_test))\n",
    "print()\n",
    "# checking F1\n",
    "print('Test F1 score: ', f1_score(dummy_pred_test, y_test, average = 'weighted'))\n",
    "print()\n",
    "# print confusion matrix\n",
    "print('Confusion matrix test set: \\n', confusion_matrix(y_test, dummy_pred_test))"
   ]
  },
  {
   "cell_type": "markdown",
   "metadata": {},
   "source": [
    "this is will be our baseline model and what we will compare our models with"
   ]
  },
  {
   "cell_type": "markdown",
   "metadata": {},
   "source": [
    "## TFIDF"
   ]
  },
  {
   "cell_type": "code",
   "execution_count": 70,
   "metadata": {},
   "outputs": [],
   "source": [
    "# vectorize our predictor column, n_gram range was chosen as we found having groups of words increased \n",
    "# our score, max_features of 50,000 was used as anything bigger than that kept making the kernel crash\n",
    "vect = TfidfVectorizer(ngram_range=(1, 3), max_features = 50000, stop_words=stopwords_list)\n",
    "    \n",
    "#fit/transform train set and transform test set\n",
    "X_train = vect.fit_transform(X_train['cleaned_lemmed_lyrics'])\n",
    "X_test = vect.transform(X_test['cleaned_lemmed_lyrics'])\n",
    "    \n",
    "# make into a dataframe with the ngrams as column names\n",
    "X_train = pd.DataFrame(X_train.toarray(), columns=vect.get_feature_names())\n",
    "X_test = pd.DataFrame(X_test.toarray(), columns=vect.get_feature_names())"
   ]
  },
  {
   "cell_type": "markdown",
   "metadata": {},
   "source": [
    "### Naive Bayes no engineered features"
   ]
  },
  {
   "cell_type": "code",
   "execution_count": 71,
   "metadata": {},
   "outputs": [
    {
     "name": "stdout",
     "output_type": "stream",
     "text": [
      "Train Accuracy score:  0.5131170254879869\n",
      "Test Accuracy score:  0.398536848261074\n",
      "\n",
      "Train F1 score:  0.5162595816912312\n",
      "Test F1 score:  0.39785289987283884\n",
      "\n",
      "Confusion matrix test set: \n",
      " [[ 6123   975  1864  1942]\n",
      " [ 3047  7136  3061  3579]\n",
      " [ 9203  5021  9591  9537]\n",
      " [ 5787  3170  5267 11906]]\n",
      "CPU times: user 1min 43s, sys: 3min 8s, total: 4min 52s\n",
      "Wall time: 3min 7s\n"
     ]
    }
   ],
   "source": [
    "%%time\n",
    "\n",
    "#INSTANTIATE NB Classifier\n",
    "Naive = MultinomialNB()\n",
    "\n",
    "#fit to training set\n",
    "Naive.fit(X_train,y_train)\n",
    "\n",
    "#predict on train and test set\n",
    "y_pred_nb_train = Naive.predict(X_train)\n",
    "y_pred_nb_test = Naive.predict(X_test)\n",
    "\n",
    "\n",
    "# checking accuracy\n",
    "print('Train Accuracy score: ', accuracy_score(y_pred_nb_train, y_train))\n",
    "print('Test Accuracy score: ', accuracy_score(y_pred_nb_test, y_test))\n",
    "print()\n",
    "# checking F1\n",
    "print('Train F1 score: ', f1_score(y_pred_nb_train, y_train, average = 'weighted'))\n",
    "print('Test F1 score: ', f1_score(y_pred_nb_test,y_test, average = 'weighted'))\n",
    "print()\n",
    "# print confusion matrix\n",
    "print('Confusion matrix test set: \\n', confusion_matrix(y_test, y_pred_nb_test))"
   ]
  },
  {
   "cell_type": "code",
   "execution_count": 76,
   "metadata": {},
   "outputs": [],
   "source": [
    "cm = confusion_matrix(y_test, y_pred_nb_test)\n",
    "classes = ['Country', 'Hip_Hop/Rap', 'Pop/R&B', 'Rock/Metal']"
   ]
  },
  {
   "cell_type": "code",
   "execution_count": 77,
   "metadata": {},
   "outputs": [
    {
     "name": "stdout",
     "output_type": "stream",
     "text": [
      "Confusion Matrix, without normalization\n",
      "[[ 6123   975  1864  1942]\n",
      " [ 3047  7136  3061  3579]\n",
      " [ 9203  5021  9591  9537]\n",
      " [ 5787  3170  5267 11906]]\n"
     ]
    },
    {
     "data": {
      "image/png": "[encoded data removed]",
      "text/plain": [
       "<Figure size 432x288 with 1 Axes>"
      ]
     },
     "metadata": {
      "needs_background": "light"
     },
     "output_type": "display_data"
    }
   ],
   "source": [
    "import itertools\n",
    "plot_confusion_matrix(cm, classes,\n",
    "                          normalize=False,\n",
    "                          title='Confusion matrix',\n",
    "                          cmap=plt.cm.Blues)"
   ]
  },
  {
   "cell_type": "markdown",
   "metadata": {},
   "source": [
    "## Naive Bayes with engineered features"
   ]
  },
  {
   "cell_type": "code",
   "execution_count": 19,
   "metadata": {},
   "outputs": [],
   "source": [
    "#add engineered features to X_train\n",
    "X_train['num_lines'] = downsampled['num_lines']\n",
    "X_train['num_words'] = downsampled['num_words']\n",
    "X_train['words_per_line'] = downsampled['words_per_line']\n",
    "X_train['unique_words'] = downsampled['unique_words']\n",
    "X_train['explicit'] = downsampled['explicit']"
   ]
  },
  {
   "cell_type": "code",
   "execution_count": 22,
   "metadata": {},
   "outputs": [],
   "source": [
    "# add engineered features to x_test\n",
    "X_test['num_lines'] = test_x['num_lines']\n",
    "X_test['num_words'] = test_x['num_words']\n",
    "X_test['words_per_line'] = test_x['words_per_line']\n",
    "X_test['unique_words'] = test_x['unique_words']\n",
    "X_test['explicit'] = test_x['explicit']"
   ]
  },
  {
   "cell_type": "code",
   "execution_count": 23,
   "metadata": {},
   "outputs": [
    {
     "name": "stdout",
     "output_type": "stream",
     "text": [
      "Train Accuracy score:  0.43547306556228876\n",
      "Test Accuracy score:  0.38453599972479907\n",
      "\n",
      "Train F1 score:  0.4380378860043653\n",
      "Test F1 score:  0.3761272495449304\n",
      "\n",
      "Confusion matrix test set: \n",
      " [[ 6350   471  2639  1444]\n",
      " [ 3863  5491  4809  2660]\n",
      " [10890  2752 12334  7376]\n",
      " [ 7596  1708  7466  9360]]\n",
      "CPU times: user 11min 2s, sys: 11min 14s, total: 22min 17s\n",
      "Wall time: 22min 56s\n"
     ]
    }
   ],
   "source": [
    "%%time\n",
    "\n",
    "#INSTANTIATE NB Classifier\n",
    "Naive_feat = MultinomialNB()\n",
    "\n",
    "#fit to training set\n",
    "Naive_feat.fit(X_train,y_train)\n",
    "\n",
    "#predict on train and test set\n",
    "y_pred_nb_train = Naive_feat.predict(X_train)\n",
    "y_pred_nb_test = Naive_feat.predict(X_test)\n",
    "\n",
    "\n",
    "# checking accuracy\n",
    "print('Train Accuracy score: ', accuracy_score(y_pred_nb_train, y_train))\n",
    "print('Test Accuracy score: ', accuracy_score(y_pred_nb_test, y_test))\n",
    "print()\n",
    "# checking F1\n",
    "print('Train F1 score: ', f1_score(y_pred_nb_train, y_train, average = 'weighted'))\n",
    "print('Test F1 score: ', f1_score(y_pred_nb_test,y_test, average = 'weighted'))\n",
    "print()\n",
    "# print confusion matrix\n",
    "print('Confusion matrix test set: \\n', confusion_matrix(y_test, y_pred_nb_test))"
   ]
  },
  {
   "cell_type": "markdown",
   "metadata": {},
   "source": [
    "## Spacy"
   ]
  },
  {
   "cell_type": "code",
   "execution_count": 25,
   "metadata": {},
   "outputs": [],
   "source": [
    "predictors = spacy_df\n",
    "target = df['genre']"
   ]
  },
  {
   "cell_type": "code",
   "execution_count": 26,
   "metadata": {},
   "outputs": [],
   "source": [
    "X_train, X_test, y_train, y_test = train_test_split(predictors, target, random_state=333)"
   ]
  },
  {
   "cell_type": "code",
   "execution_count": 27,
   "metadata": {},
   "outputs": [],
   "source": [
    "# instantiate our scaler\n",
    "scaler = MinMaxScaler()\n",
    "\n",
    "# scale our engineered features\n",
    "X_train_scaled = scaler.fit_transform(X_train)\n",
    "X_test_scaled = scaler.transform(X_test)\n",
    "\n",
    "# turn the arrays into dataframes\n",
    "X_train_scaled = pd.DataFrame(X_train_scaled, columns=X_train.columns)\n",
    "X_test_scaled = pd.DataFrame(X_test_scaled, columns=X_test.columns)"
   ]
  },
  {
   "cell_type": "markdown",
   "metadata": {},
   "source": [
    "## Naive Bayes no engineered features"
   ]
  },
  {
   "cell_type": "code",
   "execution_count": 28,
   "metadata": {},
   "outputs": [
    {
     "name": "stdout",
     "output_type": "stream",
     "text": [
      "Train Accuracy score:  0.38427520305781177\n",
      "Test Accuracy score:  0.3824375924503205\n",
      "\n",
      "Train F1 score:  0.5551960091912173\n",
      "Test F1 score:  0.5532800822819983\n",
      "\n",
      "Confusion matrix test set: \n",
      " [[    0     0 10904     0]\n",
      " [    0     0 16823     0]\n",
      " [    0     0 33352     0]\n",
      " [    0     0 26130     0]]\n",
      "CPU times: user 6.35 s, sys: 45.2 ms, total: 6.39 s\n",
      "Wall time: 3.91 s\n"
     ]
    }
   ],
   "source": [
    "%%time\n",
    "\n",
    "#INSTANTIATE NB Classifier\n",
    "Naive_sp = MultinomialNB()\n",
    "\n",
    "#fit to training set\n",
    "Naive_sp.fit(X_train_scaled,y_train)\n",
    "\n",
    "#predict on train and test set\n",
    "y_pred_nb_train = Naive_sp.predict(X_train_scaled)\n",
    "y_pred_nb_test = Naive_sp.predict(X_test_scaled)\n",
    "\n",
    "\n",
    "# checking accuracy\n",
    "print('Train Accuracy score: ', accuracy_score(y_pred_nb_train, y_train))\n",
    "print('Test Accuracy score: ', accuracy_score(y_pred_nb_test, y_test))\n",
    "print()\n",
    "# checking F1\n",
    "print('Train F1 score: ', f1_score(y_pred_nb_train, y_train, average = 'weighted'))\n",
    "print('Test F1 score: ', f1_score(y_pred_nb_test,y_test, average = 'weighted'))\n",
    "print()\n",
    "# print confusion matrix\n",
    "print('Confusion matrix test set: \\n', confusion_matrix(y_test, y_pred_nb_test))"
   ]
  },
  {
   "cell_type": "markdown",
   "metadata": {},
   "source": [
    "Naive Bayes model is just picking dominant class, we will need to choose a different model"
   ]
  },
  {
   "cell_type": "markdown",
   "metadata": {},
   "source": [
    "## Decision Tree no engineered features"
   ]
  },
  {
   "cell_type": "code",
   "execution_count": 60,
   "metadata": {},
   "outputs": [
    {
     "data": {
      "text/plain": [
       "array([0.34656225, 0.34925007, 0.34845368, 0.35270109, 0.34705999,\n",
       "       0.34755774, 0.35183833, 0.34908415, 0.34775684, 0.34905097])"
      ]
     },
     "execution_count": 60,
     "metadata": {},
     "output_type": "execute_result"
    }
   ],
   "source": [
    "# look at cross validation scores to see if model should be fitted\n",
    "# instantiate the decision tree classifier\n",
    "tree = DecisionTreeClassifier(class_weight = 'balanced',random_state = 333)\n",
    "\n",
    "# fit it to our training set and evaluate\n",
    "cross_val_score(tree, X_train, y_train, cv=10, n_jobs=-1)"
   ]
  },
  {
   "cell_type": "markdown",
   "metadata": {},
   "source": [
    "Naive Bayes model performed better but it was just choosing dominant class so we will fit a model to see how it performs against random forest"
   ]
  },
  {
   "cell_type": "code",
   "execution_count": 29,
   "metadata": {},
   "outputs": [
    {
     "name": "stdout",
     "output_type": "stream",
     "text": [
      "Train Accuracy score:  0.9968389870998566\n",
      "Test Accuracy score:  0.34207478585925766\n",
      "\n",
      "Train F1 score:  0.9968367924745904\n",
      "Test F1 score:  0.34142040622155917\n",
      "\n",
      "Confusion matrix test set: \n",
      " [[ 2127  1787  4094  2896]\n",
      " [ 1782  5028  5809  4204]\n",
      " [ 4314  5932 13532  9574]\n",
      " [ 3170  4303  9512  9145]]\n",
      "CPU times: user 3min 19s, sys: 287 ms, total: 3min 19s\n",
      "Wall time: 3min 19s\n"
     ]
    }
   ],
   "source": [
    "%%time\n",
    "\n",
    "# INSTANTIATE DECISION TREE MODEL\n",
    "tree = DecisionTreeClassifier(class_weight = 'balanced',random_state = 333)\n",
    "\n",
    "#fit to training set\n",
    "tree.fit(X_train, y_train)\n",
    "\n",
    "#predict on train and test set\n",
    "y_pred_tree_train = tree.predict(X_train)\n",
    "y_pred_tree_test = tree.predict(X_test)\n",
    "\n",
    "\n",
    "# checking accuracy\n",
    "print('Train Accuracy score: ', accuracy_score(y_pred_tree_train, y_train))\n",
    "print('Test Accuracy score: ', accuracy_score(y_pred_tree_test, y_test))\n",
    "print()\n",
    "# checking F1\n",
    "print('Train F1 score: ', f1_score(y_pred_tree_train, y_train, average = 'weighted'))\n",
    "print('Test F1 score: ', f1_score(y_pred_tree_test,y_test, average = 'weighted'))\n",
    "print()\n",
    "# print confusion matrix\n",
    "print('Confusion matrix test set: \\n', confusion_matrix(y_test, y_pred_tree_test))"
   ]
  },
  {
   "cell_type": "markdown",
   "metadata": {},
   "source": [
    "## Random Forest no engineered features"
   ]
  },
  {
   "cell_type": "code",
   "execution_count": 73,
   "metadata": {},
   "outputs": [
    {
     "data": {
      "text/plain": [
       "array([0.46047916, 0.46011415, 0.46519113, 0.46256968, 0.46077781,\n",
       "       0.46084417, 0.46323334, 0.45918503, 0.46144147, 0.46220467])"
      ]
     },
     "execution_count": 73,
     "metadata": {},
     "output_type": "execute_result"
    }
   ],
   "source": [
    "# look at cross validation scores to see if model should be fitted\n",
    "#INSTANTIATE RANDOM FOREST MODEL\n",
    "rfc = RandomForestClassifier(random_state = 333, class_weight='balanced', n_jobs = -1)\n",
    "\n",
    "# fit it to our training set and evaluate\n",
    "cross_val_score(rfc, X_train, y_train, cv=10, n_jobs=-1)"
   ]
  },
  {
   "cell_type": "markdown",
   "metadata": {},
   "source": [
    "this is performing better than decision tree so we will fit a model"
   ]
  },
  {
   "cell_type": "code",
   "execution_count": 30,
   "metadata": {},
   "outputs": [
    {
     "name": "stdout",
     "output_type": "stream",
     "text": [
      "Train Accuracy score:  0.996942188246536\n",
      "Test Accuracy score:  0.4479468862158722\n",
      "\n",
      "Train F1 score:  0.9969403568698881\n",
      "Test F1 score:  0.4858380772831753\n",
      "\n",
      "Confusion matrix test set: \n",
      " [[  921   401  8011  1571]\n",
      " [  218  4611  9651  2343]\n",
      " [  562  1936 25412  5442]\n",
      " [  348   918 16743  8121]]\n",
      "CPU times: user 19min 58s, sys: 4.29 s, total: 20min 3s\n",
      "Wall time: 1min 30s\n"
     ]
    }
   ],
   "source": [
    "%%time\n",
    "\n",
    "#INSTANTIATE RANDOM FOREST MODEL\n",
    "rfc = RandomForestClassifier(random_state = 333, class_weight='balanced', n_jobs = -1)\n",
    "\n",
    "#fit to training set\n",
    "rfc.fit(X_train, y_train)\n",
    "\n",
    "#predict on train and test set\n",
    "y_pred_rfc_train = rfc.predict(X_train)\n",
    "y_pred_rfc_test = rfc.predict(X_test)\n",
    "\n",
    "\n",
    "# checking accuracy\n",
    "print('Train Accuracy score: ', accuracy_score(y_pred_rfc_train, y_train))\n",
    "print('Test Accuracy score: ', accuracy_score(y_pred_rfc_test, y_test))\n",
    "print()\n",
    "# checking F1\n",
    "print('Train F1 score: ', f1_score(y_pred_rfc_train, y_train, average = 'weighted'))\n",
    "print('Test F1 score: ', f1_score(y_pred_rfc_test,y_test, average = 'weighted'))\n",
    "print()\n",
    "# print confusion matrix\n",
    "print('Confusion matrix test set: \\n', confusion_matrix(y_test, y_pred_rfc_test))"
   ]
  },
  {
   "cell_type": "markdown",
   "metadata": {},
   "source": [
    "## Naive Bayes with engineered features"
   ]
  },
  {
   "cell_type": "code",
   "execution_count": 78,
   "metadata": {},
   "outputs": [],
   "source": [
    "engineered = df.drop(columns = ['artist', 'lyrics', 'clean_lyrics', 'better_lyrics', 'cleaned_lemmed_lyrics', 'lines', 'genre'])"
   ]
  },
  {
   "cell_type": "code",
   "execution_count": 79,
   "metadata": {},
   "outputs": [],
   "source": [
    "predictors = pd.concat([spacy_df, engineered], axis = 1)\n",
    "target = df['genre']"
   ]
  },
  {
   "cell_type": "code",
   "execution_count": 80,
   "metadata": {},
   "outputs": [],
   "source": [
    "X_train, X_test, y_train, y_test = train_test_split(predictors, target, random_state=333)"
   ]
  },
  {
   "cell_type": "code",
   "execution_count": 81,
   "metadata": {},
   "outputs": [],
   "source": [
    "# instantiate our scaler\n",
    "scaler = MinMaxScaler()\n",
    "\n",
    "# scale our engineered features\n",
    "X_train_scaled = scaler.fit_transform(X_train)\n",
    "X_test_scaled = scaler.transform(X_test)\n",
    "\n",
    "# turn the arrays into dataframes\n",
    "X_train_scaled = pd.DataFrame(X_train_scaled, columns=X_train.columns)\n",
    "X_test_scaled = pd.DataFrame(X_test_scaled, columns=X_test.columns)"
   ]
  },
  {
   "cell_type": "code",
   "execution_count": 82,
   "metadata": {},
   "outputs": [
    {
     "name": "stdout",
     "output_type": "stream",
     "text": [
      "Train Accuracy score:  0.3843248924988055\n",
      "Test Accuracy score:  0.3824605258631563\n",
      "\n",
      "Train F1 score:  0.5551531515721055\n",
      "Test F1 score:  0.5531561305024378\n",
      "\n",
      "Confusion matrix test set: \n",
      " [[    0     0 10904     0]\n",
      " [    0     8 16815     0]\n",
      " [    0     6 33346     0]\n",
      " [    0     0 26130     0]]\n",
      "CPU times: user 5.56 s, sys: 212 ms, total: 5.78 s\n",
      "Wall time: 3.39 s\n"
     ]
    }
   ],
   "source": [
    "%%time\n",
    "\n",
    "#INSTANTIATE NB Classifier\n",
    "Naive_sp_feat = MultinomialNB()\n",
    "\n",
    "#fit to training set\n",
    "Naive_sp_feat.fit(X_train_scaled,y_train)\n",
    "\n",
    "#predict on train and test set\n",
    "y_pred_nb_train_sp_feat = Naive_sp_feat.predict(X_train_scaled)\n",
    "y_pred_nb_test_sp_feat = Naive_sp_feat.predict(X_test_scaled)\n",
    "\n",
    "\n",
    "# checking accuracy\n",
    "print('Train Accuracy score: ', accuracy_score(y_pred_nb_train_sp_feat, y_train))\n",
    "print('Test Accuracy score: ', accuracy_score(y_pred_nb_test_sp_feat, y_test))\n",
    "print()\n",
    "# checking F1\n",
    "print('Train F1 score: ', f1_score(y_pred_nb_train_sp_feat, y_train, average = 'weighted'))\n",
    "print('Test F1 score: ', f1_score(y_pred_nb_test_sp_feat,y_test, average = 'weighted'))\n",
    "print()\n",
    "# print confusion matrix\n",
    "print('Confusion matrix test set: \\n', confusion_matrix(y_test, y_pred_nb_test_sp_feat))"
   ]
  },
  {
   "cell_type": "code",
   "execution_count": 83,
   "metadata": {},
   "outputs": [],
   "source": [
    "cm = confusion_matrix(y_test, y_pred_nb_test_sp_feat)\n",
    "classes = ['Country', 'Hip-Hop/Rap', 'Pop/R&B', 'Rock/Metal']"
   ]
  },
  {
   "cell_type": "code",
   "execution_count": 84,
   "metadata": {},
   "outputs": [
    {
     "name": "stdout",
     "output_type": "stream",
     "text": [
      "Confusion Matrix, without normalization\n",
      "[[    0     0 10904     0]\n",
      " [    0     8 16815     0]\n",
      " [    0     6 33346     0]\n",
      " [    0     0 26130     0]]\n"
     ]
    },
    {
     "data": {
      "image/png": "[encoded data removed]",
      "text/plain": [
       "<Figure size 432x288 with 1 Axes>"
      ]
     },
     "metadata": {
      "needs_background": "light"
     },
     "output_type": "display_data"
    }
   ],
   "source": [
    "import itertools\n",
    "plot_confusion_matrix(cm, classes,\n",
    "                          normalize=False,\n",
    "                          title='Confusion matrix',\n",
    "                          cmap=plt.cm.Blues)"
   ]
  },
  {
   "cell_type": "markdown",
   "metadata": {},
   "source": [
    "for the most part this is still choosing dominant class with the exception a few instances we will move on to other models to see how they perform"
   ]
  },
  {
   "cell_type": "markdown",
   "metadata": {},
   "source": [
    "## Decision Tree with engineered features"
   ]
  },
  {
   "cell_type": "code",
   "execution_count": 68,
   "metadata": {},
   "outputs": [
    {
     "data": {
      "text/plain": [
       "array([0.35611893, 0.3553889 , 0.36142819, 0.35744624, 0.35157287,\n",
       "       0.35605256, 0.35890629, 0.35605256, 0.35472525, 0.35532254])"
      ]
     },
     "execution_count": 68,
     "metadata": {},
     "output_type": "execute_result"
    }
   ],
   "source": [
    "# look at cross validation scores to see if model should be fitted\n",
    "# instantiate the decision tree classifier\n",
    "tree_feat = DecisionTreeClassifier(class_weight = 'balanced',random_state = 333)\n",
    "\n",
    "# fit it to our training set and evaluate\n",
    "cross_val_score(tree_feat, X_train, y_train, cv=10, n_jobs=-1)"
   ]
  },
  {
   "cell_type": "markdown",
   "metadata": {},
   "source": [
    "same as with our model without engineered features this model is performing worse than naive bayes but we will still fit a model as naive bayes is sticking to one class"
   ]
  },
  {
   "cell_type": "code",
   "execution_count": 35,
   "metadata": {},
   "outputs": [
    {
     "name": "stdout",
     "output_type": "stream",
     "text": [
      "Train Accuracy score:  0.9976531294792165\n",
      "Test Accuracy score:  0.3494134779667236\n",
      "\n",
      "Train F1 score:  0.9976518522653014\n",
      "Test F1 score:  0.348878888039867\n",
      "\n",
      "Confusion matrix test set: \n",
      " [[ 2270  1656  4054  2924]\n",
      " [ 1783  5160  5782  4098]\n",
      " [ 4274  5907 13778  9393]\n",
      " [ 3087  4204  9575  9264]]\n",
      "CPU times: user 3min 25s, sys: 312 ms, total: 3min 25s\n",
      "Wall time: 3min 25s\n"
     ]
    }
   ],
   "source": [
    "%%time\n",
    "\n",
    "# INSTANTIATE DECISION TREE MODEL\n",
    "tree_feat = DecisionTreeClassifier(class_weight = 'balanced',random_state = 333)\n",
    "\n",
    "#fit to training set\n",
    "tree_feat.fit(X_train, y_train)\n",
    "\n",
    "#predict on train and test set\n",
    "y_pred_tree_train_feat = tree_feat.predict(X_train)\n",
    "y_pred_tree_test_feat = tree_feat.predict(X_test)\n",
    "\n",
    "\n",
    "# checking accuracy\n",
    "print('Train Accuracy score: ', accuracy_score(y_pred_tree_train_feat, y_train))\n",
    "print('Test Accuracy score: ', accuracy_score(y_pred_tree_test_feat, y_test))\n",
    "print()\n",
    "# checking F1\n",
    "print('Train F1 score: ', f1_score(y_pred_tree_train_feat, y_train, average = 'weighted'))\n",
    "print('Test F1 score: ', f1_score(y_pred_tree_test_feat,y_test, average = 'weighted'))\n",
    "print()\n",
    "# print confusion matrix\n",
    "print('Confusion matrix test set: \\n', confusion_matrix(y_test, y_pred_tree_test_feat))"
   ]
  },
  {
   "cell_type": "markdown",
   "metadata": {},
   "source": [
    "## Random Forest with engineered features"
   ]
  },
  {
   "cell_type": "code",
   "execution_count": 69,
   "metadata": {},
   "outputs": [
    {
     "data": {
      "text/plain": [
       "array([0.46844306, 0.46738121, 0.47109769, 0.46691664, 0.46548978,\n",
       "       0.4664189 , 0.46980356, 0.46535705, 0.46718211, 0.47156225])"
      ]
     },
     "execution_count": 69,
     "metadata": {},
     "output_type": "execute_result"
    }
   ],
   "source": [
    "# look at cross validation scores to see if model should be fitted\n",
    "#INSTANTIATE RANDOM FOREST MODEL\n",
    "rfc_feat = RandomForestClassifier(random_state = 333, class_weight='balanced', n_jobs = -1)\n",
    "\n",
    "# fit it to our training set and evaluate\n",
    "cross_val_score(rfc_feat, X_train, y_train, cv=10, n_jobs=-1)"
   ]
  },
  {
   "cell_type": "markdown",
   "metadata": {},
   "source": [
    "this is performing better than decision tree so we will fit a model"
   ]
  },
  {
   "cell_type": "code",
   "execution_count": 85,
   "metadata": {},
   "outputs": [
    {
     "name": "stdout",
     "output_type": "stream",
     "text": [
      "Train Accuracy score:  0.9977257525083612\n",
      "Test Accuracy score:  0.45326743799378505\n",
      "\n",
      "Train F1 score:  0.9977246583920979\n",
      "Test F1 score:  0.48597105203225743\n",
      "\n",
      "Confusion matrix test set: \n",
      " [[ 1119   404  7729  1652]\n",
      " [  286  5123  9113  2301]\n",
      " [  664  2119 24921  5648]\n",
      " [  404  1034 16326  8366]]\n",
      "CPU times: user 19min 9s, sys: 6.21 s, total: 19min 15s\n",
      "Wall time: 1min 23s\n"
     ]
    }
   ],
   "source": [
    "%%time\n",
    "\n",
    "#INSTANTIATE RANDOM FOREST MODEL\n",
    "rfc_feat = RandomForestClassifier(random_state = 333, class_weight='balanced', n_jobs = -1)\n",
    "\n",
    "#fit to training set\n",
    "rfc_feat.fit(X_train, y_train)\n",
    "\n",
    "#predict on train and test set\n",
    "y_pred_rfc_train_feat = rfc_feat.predict(X_train)\n",
    "y_pred_rfc_test_feat = rfc_feat.predict(X_test)\n",
    "\n",
    "\n",
    "# checking accuracy\n",
    "print('Train Accuracy score: ', accuracy_score(y_pred_rfc_train_feat, y_train))\n",
    "print('Test Accuracy score: ', accuracy_score(y_pred_rfc_test_feat, y_test))\n",
    "print()\n",
    "# checking F1\n",
    "print('Train F1 score: ', f1_score(y_pred_rfc_train_feat, y_train, average = 'weighted'))\n",
    "print('Test F1 score: ', f1_score(y_pred_rfc_test_feat,y_test, average = 'weighted'))\n",
    "print()\n",
    "# print confusion matrix\n",
    "print('Confusion matrix test set: \\n', confusion_matrix(y_test, y_pred_rfc_test_feat))"
   ]
  },
  {
   "cell_type": "code",
   "execution_count": 86,
   "metadata": {},
   "outputs": [],
   "source": [
    "cm = confusion_matrix(y_test, y_pred_rfc_test_feat)\n",
    "classes = ['Country', 'Hip_Hop/Rap', 'Pop/R&B', 'Rock/Metal']"
   ]
  },
  {
   "cell_type": "code",
   "execution_count": 87,
   "metadata": {},
   "outputs": [
    {
     "name": "stdout",
     "output_type": "stream",
     "text": [
      "Confusion Matrix, without normalization\n",
      "[[ 1119   404  7729  1652]\n",
      " [  286  5123  9113  2301]\n",
      " [  664  2119 24921  5648]\n",
      " [  404  1034 16326  8366]]\n"
     ]
    },
    {
     "data": {
      "image/png": "[encoded data removed]",
      "text/plain": [
       "<Figure size 432x288 with 1 Axes>"
      ]
     },
     "metadata": {
      "needs_background": "light"
     },
     "output_type": "display_data"
    }
   ],
   "source": [
    "import itertools\n",
    "plot_confusion_matrix(cm, classes,\n",
    "                          normalize=False,\n",
    "                          title='Confusion matrix',\n",
    "                          cmap=plt.cm.Blues)"
   ]
  },
  {
   "cell_type": "code",
   "execution_count": 63,
   "metadata": {},
   "outputs": [
    {
     "name": "stdout",
     "output_type": "stream",
     "text": [
      "              precision    recall  f1-score   support\n",
      "\n",
      "     Pop/R&B       0.45      0.10      0.16     12097\n",
      " Hip-Hop/Rap       0.59      0.31      0.40     19391\n",
      "Country/Folk       0.45      0.78      0.57     39934\n",
      "  Rock/Metal       0.47      0.29      0.36     29032\n",
      "\n",
      "    accuracy                           0.46    100454\n",
      "   macro avg       0.49      0.37      0.37    100454\n",
      "weighted avg       0.48      0.46      0.43    100454\n",
      "\n"
     ]
    }
   ],
   "source": [
    "# print out report\n",
    "print(classification_report(y_test, y_pred_rfc_test_feat, target_names=list(target.unique())))"
   ]
  },
  {
   "cell_type": "code",
   "execution_count": 39,
   "metadata": {},
   "outputs": [],
   "source": [
    "#pickle our model to use with generated lyrics\n",
    "pickle_out = open(\"rfc_mod.pickle\",\"wb\")\n",
    "pickle.dump(rfc_feat, pickle_out)\n",
    "pickle_out.close()"
   ]
  },
  {
   "cell_type": "markdown",
   "metadata": {},
   "source": [
    "## Grid search best model to see if we can improve it"
   ]
  },
  {
   "cell_type": "code",
   "execution_count": 16,
   "metadata": {},
   "outputs": [],
   "source": [
    "#SET PARAMATER GRID\n",
    "param_grid_forest = { \n",
    "    'n_estimators': [75,100,125],\n",
    "    'criterion': ['gini', 'entropy'],\n",
    "    'max_leaf_nodes': [ 18, 19, 21, 23],\n",
    "    'max_depth': [9, 10, 12],\n",
    "    'max_features': ['auto', 'log2']\n",
    "    }\n",
    "\n",
    "grid_search_forest = GridSearchCV(estimator = rfc_feat, param_grid = param_grid_forest,cv = 5, n_jobs = -1)"
   ]
  },
  {
   "cell_type": "code",
   "execution_count": null,
   "metadata": {},
   "outputs": [],
   "source": [
    "grid_search_forest.fit(X_train,y_train)\n",
    "forest_params = grid_search_forest.best_params_\n",
    "print(forest_params)"
   ]
  },
  {
   "cell_type": "code",
   "execution_count": null,
   "metadata": {},
   "outputs": [],
   "source": [
    "forest_grid = RandomForestClassifier(**forest_params, random_state = 333,class_weight = 'balanced', n_jobs = -1)\n",
    "\n",
    "forest_grid.fit(X_train, y_train)\n",
    "\n",
    "y_pred_grid_train = forest_grid.predict(X_train)\n",
    "y_pred_grid_test = forest_grid.predict(X_test)\n",
    "\n",
    "# checking accuracy\n",
    "print('Train Accuracy score: ', accuracy_score(y_pred_grid_train, y_train))\n",
    "print('Test Accuracy score: ', accuracy_score(y_pred_grid_test, y_test))\n",
    "print()\n",
    "# checking F1\n",
    "print('Train F1 score: ', f1_score(y_pred_grid_train, y_train, average = 'weighted'))\n",
    "print('Test F1 score: ', f1_score(y_pred_grid_test, y_test, average = 'weighted'))\n",
    "print()\n",
    "# print confusion matrix\n",
    "print('Confusion matrix test set: \\n', confusion_matrix(y_test, y_pred_grid_test))"
   ]
  },
  {
   "cell_type": "markdown",
   "metadata": {},
   "source": [
    "## Conclusion"
   ]
  },
  {
   "cell_type": "markdown",
   "metadata": {},
   "source": [
    "Random Forest with engineered features is our best model, although not by a huge margin. Naive Bayes using Spacy vectorization seems to be just predicting the majority class in most cases. Naive Bayes TF-IDF Model is a good runner up but it as it does better than any of the decision trees models."
   ]
  }
 ],
 "metadata": {
  "kernelspec": {
   "display_name": "Python 3",
   "language": "python",
   "name": "python3"
  },
  "language_info": {
   "codemirror_mode": {
    "name": "ipython",
    "version": 3
   },
   "file_extension": ".py",
   "mimetype": "text/x-python",
   "name": "python",
   "nbconvert_exporter": "python",
   "pygments_lexer": "ipython3",
   "version": "3.7.6"
  }
 },
 "nbformat": 4,
 "nbformat_minor": 4
}
