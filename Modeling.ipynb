{
 "cells": [
  {
   "cell_type": "code",
   "execution_count": 62,
   "metadata": {},
   "outputs": [],
   "source": [
    "from sklearn.feature_extraction.text import CountVectorizer, TfidfVectorizer\n",
    "from nltk import word_tokenize\n",
    "from sklearn.utils import resample\n",
    "from sklearn.tree import DecisionTreeClassifier\n",
    "from sklearn.dummy import DummyClassifier\n",
    "from sklearn.ensemble import RandomForestClassifier\n",
    "from sklearn.naive_bayes import MultinomialNB\n",
    "from sklearn.svm import SVC\n",
    "from sklearn.model_selection import train_test_split, cross_val_score\n",
    "from sklearn.metrics import accuracy_score, confusion_matrix, f1_score, recall_score, classification_report\n",
    "from sklearn.preprocessing import StandardScaler, MinMaxScaler\n",
    "import pandas as pd\n",
    "import numpy as np\n",
    "import matplotlib.pyplot as plt\n",
    "from nltk.corpus import stopwords\n",
    "import string\n",
    "import spacy\n",
    "import pickle\n",
    "import itertools\n",
    "import seaborn as sns\n",
    "import time\n",
    "from tqdm import tqdm"
   ]
  },
  {
   "cell_type": "markdown",
   "metadata": {},
   "source": [
    "## Use Spacy to vectorize lyrics"
   ]
  },
  {
   "cell_type": "code",
   "execution_count": 3,
   "metadata": {},
   "outputs": [],
   "source": [
    "nlp = spacy.load('en_core_web_md')"
   ]
  },
  {
   "cell_type": "code",
   "execution_count": 6,
   "metadata": {},
   "outputs": [
    {
     "name": "stderr",
     "output_type": "stream",
     "text": [
      "/opt/anaconda3/lib/python3.7/site-packages/tqdm/std.py:658: FutureWarning: The Panel class is removed from pandas. Accessing it from the top-level namespace will also be removed in the next version\n",
      "  from pandas import Panel\n"
     ]
    }
   ],
   "source": [
    "tqdm.pandas()"
   ]
  },
  {
   "cell_type": "code",
   "execution_count": 7,
   "metadata": {},
   "outputs": [
    {
     "name": "stderr",
     "output_type": "stream",
     "text": [
      "100%|██████████| 401817/401817 [2:36:00<00:00, 42.93it/s]  \n"
     ]
    }
   ],
   "source": [
    "df['spacy'] = df.clean_lyrics.progress_apply(lambda x: nlp(x))"
   ]
  },
  {
   "cell_type": "code",
   "execution_count": 8,
   "metadata": {},
   "outputs": [],
   "source": [
    "#save dataframe with spacy column\n",
    "df.to_csv('df_w_spacy.csv')"
   ]
  },
  {
   "cell_type": "code",
   "execution_count": 15,
   "metadata": {},
   "outputs": [],
   "source": [
    "#get vector representation for lyrics utilizing spacy\n",
    "spacy_df = pd.DataFrame(np.vstack([x.vector for x in df.spacy]))"
   ]
  },
  {
   "cell_type": "code",
   "execution_count": 16,
   "metadata": {},
   "outputs": [],
   "source": [
    "#save dataframe in case of kernel failure\n",
    "spacy_df.to_csv('spacy_df.csv')"
   ]
  },
  {
   "cell_type": "markdown",
   "metadata": {},
   "source": [
    "## Load Dataframes"
   ]
  },
  {
   "cell_type": "code",
   "execution_count": 2,
   "metadata": {},
   "outputs": [],
   "source": [
    "df = pd.read_csv('df_w_spacy.csv', index_col = 0)"
   ]
  },
  {
   "cell_type": "code",
   "execution_count": 3,
   "metadata": {},
   "outputs": [],
   "source": [
    "spacy_df = pd.read_csv('spacy_df.csv', index_col = 0)"
   ]
  },
  {
   "cell_type": "code",
   "execution_count": 4,
   "metadata": {},
   "outputs": [
    {
     "data": {
      "text/plain": [
       "artist                   0\n",
       "lyrics                   0\n",
       "clean_lyrics             0\n",
       "cleaned_lemmed_lyrics    0\n",
       "genre                    0\n",
       "lines                    0\n",
       "num_lines                0\n",
       "num_words                0\n",
       "words_per_line           3\n",
       "unique_words             0\n",
       "explicit                 0\n",
       "spacy                    0\n",
       "dtype: int64"
      ]
     },
     "execution_count": 4,
     "metadata": {},
     "output_type": "execute_result"
    }
   ],
   "source": [
    "df.isnull().sum()"
   ]
  },
  {
   "cell_type": "code",
   "execution_count": 5,
   "metadata": {},
   "outputs": [],
   "source": [
    "# drop rows we found to be null\n",
    "df.drop([28525, 68974, 275556], inplace = True)"
   ]
  },
  {
   "cell_type": "code",
   "execution_count": 6,
   "metadata": {},
   "outputs": [],
   "source": [
    "#drop same rows in spacy_df\n",
    "spacy_df.drop([28525, 68974, 275556], inplace = True)"
   ]
  },
  {
   "cell_type": "markdown",
   "metadata": {},
   "source": [
    "## Checking Class Balance"
   ]
  },
  {
   "cell_type": "code",
   "execution_count": 10,
   "metadata": {},
   "outputs": [
    {
     "data": {
      "text/plain": [
       "Pop/R&B         0.399202\n",
       "Rock/Metal      0.288912\n",
       "Hip-Hop/Rap     0.193134\n",
       "Country/Folk    0.118751\n",
       "Name: genre, dtype: float64"
      ]
     },
     "execution_count": 10,
     "metadata": {},
     "output_type": "execute_result"
    }
   ],
   "source": [
    "# check out the class balance\n",
    "df['genre'].value_counts(normalize=True)"
   ]
  },
  {
   "cell_type": "markdown",
   "metadata": {},
   "source": [
    "There is a bit of a class imbalance here, the Pop/R&B genre outweighs all other genres. We will downsample here for two reasons. First this will help alleviate the class imbalance issue and second it will help the models fit quicker as the decision tree/random forest took hours to fit to the training set with the full dataframe."
   ]
  },
  {
   "cell_type": "markdown",
   "metadata": {},
   "source": [
    "### StopWords"
   ]
  },
  {
   "cell_type": "code",
   "execution_count": 49,
   "metadata": {
    "scrolled": true
   },
   "outputs": [
    {
     "name": "stdout",
     "output_type": "stream",
     "text": [
      "['i', 'me', 'my', 'myself', 'we', 'our', 'ours', 'ourselves', 'you', \"you're\", \"you've\", \"you'll\", \"you'd\", 'your', 'yours', 'yourself', 'yourselves', 'he', 'him', 'his', 'himself', 'she', \"she's\", 'her', 'hers', 'herself', 'it', \"it's\", 'its', 'itself', 'they', 'them', 'their', 'theirs', 'themselves', 'what', 'which', 'who', 'whom', 'this', 'that', \"that'll\", 'these', 'those', 'am', 'is', 'are', 'was', 'were', 'be', 'been', 'being', 'have', 'has', 'had', 'having', 'do', 'does', 'did', 'doing', 'a', 'an', 'the', 'and', 'but', 'if', 'or', 'because', 'as', 'until', 'while', 'of', 'at', 'by', 'for', 'with', 'about', 'against', 'between', 'into', 'through', 'during', 'before', 'after', 'above', 'below', 'to', 'from', 'up', 'down', 'in', 'out', 'on', 'off', 'over', 'under', 'again', 'further', 'then', 'once', 'here', 'there', 'when', 'where', 'why', 'how', 'all', 'any', 'both', 'each', 'few', 'more', 'most', 'other', 'some', 'such', 'no', 'nor', 'not', 'only', 'own', 'same', 'so', 'than', 'too', 'very', 's', 't', 'can', 'will', 'just', 'don', \"don't\", 'should', \"should've\", 'now', 'd', 'll', 'm', 'o', 're', 've', 'y', 'ain', 'aren', \"aren't\", 'couldn', \"couldn't\", 'didn', \"didn't\", 'doesn', \"doesn't\", 'hadn', \"hadn't\", 'hasn', \"hasn't\", 'haven', \"haven't\", 'isn', \"isn't\", 'ma', 'mightn', \"mightn't\", 'mustn', \"mustn't\", 'needn', \"needn't\", 'shan', \"shan't\", 'shouldn', \"shouldn't\", 'wasn', \"wasn't\", 'weren', \"weren't\", 'won', \"won't\", 'wouldn', \"wouldn't\", 'pron', '-PRON-', 'br']\n"
     ]
    }
   ],
   "source": [
    "# create stopwords and update as spacy lemmatizer converts all pronouns (i, we, us, etc..) to -PRON-\n",
    "stopwords_list = stopwords.words('english')+['pron', '-PRON-', 'br']\n",
    "print(stopwords_list)"
   ]
  },
  {
   "cell_type": "code",
   "execution_count": 58,
   "metadata": {},
   "outputs": [],
   "source": [
    "def plot_confusion_matrix(cm, classes,\n",
    "                          normalize=False,\n",
    "                          title='Confusion matrix',\n",
    "                          cmap=plt.cm.Blues):\n",
    "    \"\"\"\n",
    "    This function prints and plots the confusion matrix.\n",
    "    Normalization can be applied by setting `normalize=True`.\n",
    "    \"\"\"\n",
    "    if normalize:\n",
    "        cm = cm.astype('float') / cm.sum(axis=1)[:, np.newaxis]\n",
    "        print(\"Normalized confusion matrix\")\n",
    "    else:\n",
    "        print('Confusion Matrix, without normalization')\n",
    "\n",
    "    print(cm)\n",
    "\n",
    "    plt.imshow(cm, interpolation='nearest', cmap=cmap)\n",
    "    plt.title(title)\n",
    "    plt.colorbar()\n",
    "    tick_marks = np.arange(len(classes))\n",
    "    plt.xticks(tick_marks, classes, rotation=45)\n",
    "    plt.yticks(tick_marks, classes)\n",
    "\n",
    "    fmt = '.2f' if normalize else 'd'\n",
    "    thresh = cm.max() / 2.\n",
    "    for i, j in itertools.product(range(cm.shape[0]), range(cm.shape[1])):\n",
    "        plt.text(j, i, format(cm[i, j], fmt),\n",
    "                 horizontalalignment=\"center\",\n",
    "                 color=\"white\" if cm[i, j] > thresh else \"black\")\n",
    "\n",
    "    plt.tight_layout()\n",
    "    plt.ylabel('True label')\n",
    "    plt.xlabel('Predicted label')"
   ]
  },
  {
   "cell_type": "markdown",
   "metadata": {},
   "source": [
    "# Modeling"
   ]
  },
  {
   "cell_type": "markdown",
   "metadata": {},
   "source": [
    "## Baseline"
   ]
  },
  {
   "cell_type": "markdown",
   "metadata": {},
   "source": [
    "From checking our classes we have shown that our classes are a bit imbalanced. we will fit a dummy classifier to get a baseline model after downsampling our classes."
   ]
  },
  {
   "cell_type": "code",
   "execution_count": 7,
   "metadata": {},
   "outputs": [],
   "source": [
    "# set datframe for dummyclassifier\n",
    "X = df\n",
    "\n",
    "# Create target variable for dummyclassifier\n",
    "y = df['genre']\n",
    "\n",
    "# setting up testing and training sets\n",
    "X_train, X_test, y_train, y_test = train_test_split(X, y, random_state=333)"
   ]
  },
  {
   "cell_type": "markdown",
   "metadata": {},
   "source": [
    "## Downsample training set"
   ]
  },
  {
   "cell_type": "code",
   "execution_count": 8,
   "metadata": {},
   "outputs": [],
   "source": [
    "# set up dataframes by genre to downsample (we will downsample to size of Country_df)\n",
    "Country_df = X_train[X_train['genre'] == 'Country/Folk']\n",
    "Pop_df = X_train[X_train['genre'] == 'Pop/R&B']\n",
    "Rock_df = X_train[X_train['genre'] == 'Rock/Metal']\n",
    "Rap_df = X_train[X_train['genre'] == 'Hip-Hop/Rap']"
   ]
  },
  {
   "cell_type": "code",
   "execution_count": 9,
   "metadata": {},
   "outputs": [],
   "source": [
    "# downsample pop genre\n",
    "Pop_downsampled = resample(Pop_df,\n",
    "                                replace = False, # sample without replacement\n",
    "                                n_samples = len(Country_df), # match minority n\n",
    "                                random_state = 333) # reproducible results"
   ]
  },
  {
   "cell_type": "code",
   "execution_count": 10,
   "metadata": {},
   "outputs": [],
   "source": [
    "# downsample rep genre\n",
    "Rap_downsampled = resample(Rap_df,\n",
    "                                replace = False, # sample without replacement\n",
    "                                n_samples = len(Country_df), # match minority n\n",
    "                                random_state = 333) # reproducible results"
   ]
  },
  {
   "cell_type": "code",
   "execution_count": 11,
   "metadata": {},
   "outputs": [],
   "source": [
    "# downsample rock genre\n",
    "Rock_downsampled = resample(Rock_df,\n",
    "                                replace = False, # sample without replacement\n",
    "                                n_samples = len(Country_df), # match minority n\n",
    "                                random_state = 333) # reproducible results"
   ]
  },
  {
   "cell_type": "code",
   "execution_count": 12,
   "metadata": {},
   "outputs": [],
   "source": [
    "# combine dataframes for modeling\n",
    "# combine minority and downsampled genres\n",
    "downsampled = pd.concat([Pop_downsampled, Country_df, Rock_downsampled, Rap_downsampled])"
   ]
  },
  {
   "cell_type": "markdown",
   "metadata": {},
   "source": [
    "### Fit dummy classifier"
   ]
  },
  {
   "cell_type": "code",
   "execution_count": 13,
   "metadata": {},
   "outputs": [],
   "source": [
    "y_train = downsampled['genre']\n",
    "X_train = downsampled.drop(['genre'], axis = 1)"
   ]
  },
  {
   "cell_type": "code",
   "execution_count": 27,
   "metadata": {},
   "outputs": [],
   "source": [
    "# DummyClassifier to predict only most frequent class\n",
    "dummy = DummyClassifier(strategy='uniform').fit(X_train, y_train)\n",
    "dummy_pred_test = dummy.predict(X_test)"
   ]
  },
  {
   "cell_type": "code",
   "execution_count": 28,
   "metadata": {},
   "outputs": [
    {
     "name": "stdout",
     "output_type": "stream",
     "text": [
      "Test Accuracy score:  0.25294164493200866\n",
      "\n",
      "Test F1 score:  0.2419491157808375\n",
      "\n",
      "Confusion matrix test set: \n",
      " [[ 3148  3086  2935  2928]\n",
      " [ 4854  4895  4797  4845]\n",
      " [ 9920  9985 10090  9939]\n",
      " [ 7277  7185  7294  7276]]\n"
     ]
    }
   ],
   "source": [
    "# checking accuracy\n",
    "print('Test Accuracy score: ', accuracy_score(dummy_pred_test, y_test))\n",
    "print()\n",
    "# checking F1\n",
    "print('Test F1 score: ', f1_score(dummy_pred_test, y_test, average = 'weighted'))\n",
    "print()\n",
    "# print confusion matrix\n",
    "print('Confusion matrix test set: \\n', confusion_matrix(y_test, dummy_pred_test))"
   ]
  },
  {
   "cell_type": "markdown",
   "metadata": {},
   "source": [
    "this is will be our baseline model and what we will compare our models with"
   ]
  },
  {
   "cell_type": "markdown",
   "metadata": {},
   "source": [
    "## TFIDF"
   ]
  },
  {
   "cell_type": "code",
   "execution_count": 42,
   "metadata": {},
   "outputs": [],
   "source": [
    "X_train.reset_index(inplace = True, drop = True)"
   ]
  },
  {
   "cell_type": "code",
   "execution_count": 45,
   "metadata": {},
   "outputs": [],
   "source": [
    "X_test.reset_index(inplace = True, drop = True)"
   ]
  },
  {
   "cell_type": "code",
   "execution_count": null,
   "metadata": {},
   "outputs": [],
   "source": [
    "# vectorize our predictor column, n_gram range was chosen as we found having groups of words increased \n",
    "# our score, max_features of 50,000 was used as anything bigger than that kept making the kernel crash\n",
    "vect = TfidfVectorizer(ngram_range=(1, 3), max_features = 50000, stop_words=stopwords)\n",
    "    \n",
    "#fit/transform train set and transform test set\n",
    "X_train=vect.fit_transform(X_train['cleaned_lemmed_lyrics'])\n",
    "X_test=vect.transform(X_test['cleaned_lemmed_lyrics'])\n",
    "    \n",
    "# make into a dataframe with the ngrams as column names\n",
    "X_train = pd.DataFrame(X_train.toarray(), columns=vect.get_feature_names())\n",
    "X_test = pd.DataFrame(X_test.toarray(), columns=vect.get_feature_names())"
   ]
  },
  {
   "cell_type": "markdown",
   "metadata": {},
   "source": [
    "### Naive Bayes no engineered features"
   ]
  },
  {
   "cell_type": "code",
   "execution_count": 16,
   "metadata": {},
   "outputs": [
    {
     "name": "stdout",
     "output_type": "stream",
     "text": [
      "Train Accuracy score:  0.4817671221393243\n",
      "Test Accuracy score:  0.43184675999664685\n",
      "\n",
      "Train F1 score:  0.491709154534739\n",
      "Test F1 score:  0.4411914505041779\n",
      "\n",
      "Confusion matrix test set: \n",
      " [[7167  949 1323 2369]\n",
      " [2673 4958 1684 2708]\n",
      " [3975 1629 2710 3562]\n",
      " [3380 1288 1570 5771]]\n",
      "CPU times: user 1min 36s, sys: 2min 44s, total: 4min 20s\n",
      "Wall time: 2min 40s\n"
     ]
    }
   ],
   "source": [
    "%%time\n",
    "\n",
    "#INSTANTIATE NB Classifier\n",
    "Naive = MultinomialNB()\n",
    "\n",
    "#fit to training set\n",
    "Naive.fit(X_train,y_train)\n",
    "\n",
    "#predict on train and test set\n",
    "y_pred_nb_train = Naive.predict(X_train)\n",
    "y_pred_nb_test = Naive.predict(X_test)\n",
    "\n",
    "\n",
    "# checking accuracy\n",
    "print('Train Accuracy score: ', accuracy_score(y_pred_nb_train, y_train))\n",
    "print('Test Accuracy score: ', accuracy_score(y_pred_nb_test, y_test))\n",
    "print()\n",
    "# checking F1\n",
    "print('Train F1 score: ', f1_score(y_pred_nb_train, y_train, average = 'weighted'))\n",
    "print('Test F1 score: ', f1_score(y_pred_nb_test,y_test, average = 'weighted'))\n",
    "print()\n",
    "# print confusion matrix\n",
    "print('Confusion matrix test set: \\n', confusion_matrix(y_test, y_pred_nb_test))"
   ]
  },
  {
   "cell_type": "markdown",
   "metadata": {},
   "source": [
    "## Spacy"
   ]
  },
  {
   "cell_type": "code",
   "execution_count": 32,
   "metadata": {},
   "outputs": [],
   "source": [
    "predictors = spacy_df\n",
    "target = df['genre']"
   ]
  },
  {
   "cell_type": "code",
   "execution_count": 33,
   "metadata": {},
   "outputs": [],
   "source": [
    "X_train, X_test, y_train, y_test = train_test_split(predictors, target, random_state=333)"
   ]
  },
  {
   "cell_type": "code",
   "execution_count": 34,
   "metadata": {},
   "outputs": [],
   "source": [
    "# instantiate our scaler\n",
    "scaler = MinMaxScaler()\n",
    "\n",
    "# scale our engineered features\n",
    "X_train_scaled = scaler.fit_transform(X_train)\n",
    "X_test_scaled = scaler.transform(X_test)\n",
    "\n",
    "# turn the arrays into dataframes\n",
    "X_train_scaled = pd.DataFrame(X_train_scaled, columns=X_train.columns)\n",
    "X_test_scaled = pd.DataFrame(X_test_scaled, columns=X_test.columns)"
   ]
  },
  {
   "cell_type": "markdown",
   "metadata": {},
   "source": [
    "## Naive Bayes no engineered features"
   ]
  },
  {
   "cell_type": "code",
   "execution_count": 35,
   "metadata": {},
   "outputs": [
    {
     "name": "stdout",
     "output_type": "stream",
     "text": [
      "Train Accuracy score:  0.39975776479957525\n",
      "Test Accuracy score:  0.39753519023632705\n",
      "\n",
      "Train F1 score:  0.5711813498770835\n",
      "Test F1 score:  0.5689090235632674\n",
      "\n",
      "Confusion matrix test set: \n",
      " [[    0     0 12097     0]\n",
      " [    0     0 19391     0]\n",
      " [    0     0 39934     0]\n",
      " [    0     0 29032     0]]\n",
      "CPU times: user 6.06 s, sys: 60 ms, total: 6.12 s\n",
      "Wall time: 3.66 s\n"
     ]
    }
   ],
   "source": [
    "%%time\n",
    "\n",
    "#INSTANTIATE NB Classifier\n",
    "Naive_sp = MultinomialNB()\n",
    "\n",
    "#fit to training set\n",
    "Naive_sp.fit(X_train_scaled,y_train)\n",
    "\n",
    "#predict on train and test set\n",
    "y_pred_nb_train = Naive_sp.predict(X_train_scaled)\n",
    "y_pred_nb_test = Naive_sp.predict(X_test_scaled)\n",
    "\n",
    "\n",
    "# checking accuracy\n",
    "print('Train Accuracy score: ', accuracy_score(y_pred_nb_train, y_train))\n",
    "print('Test Accuracy score: ', accuracy_score(y_pred_nb_test, y_test))\n",
    "print()\n",
    "# checking F1\n",
    "print('Train F1 score: ', f1_score(y_pred_nb_train, y_train, average = 'weighted'))\n",
    "print('Test F1 score: ', f1_score(y_pred_nb_test,y_test, average = 'weighted'))\n",
    "print()\n",
    "# print confusion matrix\n",
    "print('Confusion matrix test set: \\n', confusion_matrix(y_test, y_pred_nb_test))"
   ]
  },
  {
   "cell_type": "markdown",
   "metadata": {},
   "source": [
    "Naive Bayes model is just picking dominant class, we will need to choose a different model"
   ]
  },
  {
   "cell_type": "markdown",
   "metadata": {},
   "source": [
    "## Decision Tree no engineered features"
   ]
  },
  {
   "cell_type": "code",
   "execution_count": 60,
   "metadata": {},
   "outputs": [
    {
     "data": {
      "text/plain": [
       "array([0.34656225, 0.34925007, 0.34845368, 0.35270109, 0.34705999,\n",
       "       0.34755774, 0.35183833, 0.34908415, 0.34775684, 0.34905097])"
      ]
     },
     "execution_count": 60,
     "metadata": {},
     "output_type": "execute_result"
    }
   ],
   "source": [
    "# look at cross validation scores to see if model should be fitted\n",
    "# instantiate the decision tree classifier\n",
    "tree = DecisionTreeClassifier(class_weight = 'balanced',random_state = 333)\n",
    "\n",
    "# fit it to our training set and evaluate\n",
    "cross_val_score(tree, X_train, y_train, cv=10, n_jobs=-1)"
   ]
  },
  {
   "cell_type": "markdown",
   "metadata": {},
   "source": [
    "Naive Bayes model performed better but it was just choosing dominant class so we will fit a model to see how it performs against random forest"
   ]
  },
  {
   "cell_type": "code",
   "execution_count": 61,
   "metadata": {},
   "outputs": [
    {
     "name": "stdout",
     "output_type": "stream",
     "text": [
      "Train Accuracy score:  0.9980023891691001\n",
      "Test Accuracy score:  0.34803989885917935\n",
      "\n",
      "Train F1 score:  0.9980020742469141\n",
      "Test F1 score:  0.3476420776531958\n",
      "\n",
      "Confusion matrix test set: \n",
      " [[ 2315  1887  4705  3190]\n",
      " [ 2046  5669  6890  4786]\n",
      " [ 4895  7099 17067 10873]\n",
      " [ 3263  4749 11109  9911]]\n",
      "CPU times: user 2min 57s, sys: 342 ms, total: 2min 57s\n",
      "Wall time: 2min 57s\n"
     ]
    }
   ],
   "source": [
    "%%time\n",
    "\n",
    "# INSTANTIATE DECISION TREE MODEL\n",
    "tree = DecisionTreeClassifier(class_weight = 'balanced',random_state = 333)\n",
    "\n",
    "#fit to training set\n",
    "tree.fit(X_train, y_train)\n",
    "\n",
    "#predict on train and test set\n",
    "y_pred_tree_train = tree.predict(X_train)\n",
    "y_pred_tree_test = tree.predict(X_test)\n",
    "\n",
    "\n",
    "# checking accuracy\n",
    "print('Train Accuracy score: ', accuracy_score(y_pred_tree_train, y_train))\n",
    "print('Test Accuracy score: ', accuracy_score(y_pred_tree_test, y_test))\n",
    "print()\n",
    "# checking F1\n",
    "print('Train F1 score: ', f1_score(y_pred_tree_train, y_train, average = 'weighted'))\n",
    "print('Test F1 score: ', f1_score(y_pred_tree_test,y_test, average = 'weighted'))\n",
    "print()\n",
    "# print confusion matrix\n",
    "print('Confusion matrix test set: \\n', confusion_matrix(y_test, y_pred_tree_test))"
   ]
  },
  {
   "cell_type": "markdown",
   "metadata": {},
   "source": [
    "## Random Forest no engineered features"
   ]
  },
  {
   "cell_type": "code",
   "execution_count": 73,
   "metadata": {},
   "outputs": [
    {
     "data": {
      "text/plain": [
       "array([0.46047916, 0.46011415, 0.46519113, 0.46256968, 0.46077781,\n",
       "       0.46084417, 0.46323334, 0.45918503, 0.46144147, 0.46220467])"
      ]
     },
     "execution_count": 73,
     "metadata": {},
     "output_type": "execute_result"
    }
   ],
   "source": [
    "# look at cross validation scores to see if model should be fitted\n",
    "#INSTANTIATE RANDOM FOREST MODEL\n",
    "rfc = RandomForestClassifier(random_state = 333, class_weight='balanced', n_jobs = -1)\n",
    "\n",
    "# fit it to our training set and evaluate\n",
    "cross_val_score(rfc, X_train, y_train, cv=10, n_jobs=-1)"
   ]
  },
  {
   "cell_type": "markdown",
   "metadata": {},
   "source": [
    "this is performing better than decision tree so we will fit a model"
   ]
  },
  {
   "cell_type": "code",
   "execution_count": 108,
   "metadata": {},
   "outputs": [
    {
     "name": "stdout",
     "output_type": "stream",
     "text": [
      "Train Accuracy score:  0.9980521635253518\n",
      "Test Accuracy score:  0.45825950186154857\n",
      "\n",
      "Train F1 score:  0.9980519170157529\n",
      "Test F1 score:  0.5017324435134211\n",
      "\n",
      "Confusion matrix test set: \n",
      " [[  967   458  9222  1450]\n",
      " [  230  5235 11603  2323]\n",
      " [  618  2174 31585  5557]\n",
      " [  363  1021 19401  8247]]\n",
      "CPU times: user 23min 53s, sys: 8.4 s, total: 24min 2s\n",
      "Wall time: 1min 42s\n"
     ]
    }
   ],
   "source": [
    "%%time\n",
    "\n",
    "#INSTANTIATE RANDOM FOREST MODEL\n",
    "rfc = RandomForestClassifier(random_state = 333, class_weight='balanced', n_jobs = -1)\n",
    "\n",
    "#fit to training set\n",
    "rfc.fit(X_train, y_train)\n",
    "\n",
    "#predict on train and test set\n",
    "y_pred_rfc_train = rfc.predict(X_train)\n",
    "y_pred_rfc_test = rfc.predict(X_test)\n",
    "\n",
    "\n",
    "# checking accuracy\n",
    "print('Train Accuracy score: ', accuracy_score(y_pred_rfc_train, y_train))\n",
    "print('Test Accuracy score: ', accuracy_score(y_pred_rfc_test, y_test))\n",
    "print()\n",
    "# checking F1\n",
    "print('Train F1 score: ', f1_score(y_pred_rfc_train, y_train, average = 'weighted'))\n",
    "print('Test F1 score: ', f1_score(y_pred_rfc_test,y_test, average = 'weighted'))\n",
    "print()\n",
    "# print confusion matrix\n",
    "print('Confusion matrix test set: \\n', confusion_matrix(y_test, y_pred_rfc_test))"
   ]
  },
  {
   "cell_type": "markdown",
   "metadata": {},
   "source": [
    "## Naive Bayes with engineered features"
   ]
  },
  {
   "cell_type": "code",
   "execution_count": 48,
   "metadata": {},
   "outputs": [],
   "source": [
    "engineered = df.drop(columns = ['artist', 'lyrics', 'clean_lyrics', 'cleaned_lemmed_lyrics', 'lines', 'genre', 'spacy'])"
   ]
  },
  {
   "cell_type": "code",
   "execution_count": 49,
   "metadata": {},
   "outputs": [],
   "source": [
    "predictors = pd.concat([spacy_df, engineered], axis = 1)\n",
    "target = df['genre']"
   ]
  },
  {
   "cell_type": "code",
   "execution_count": 50,
   "metadata": {},
   "outputs": [],
   "source": [
    "X_train, X_test, y_train, y_test = train_test_split(predictors, target, random_state=333)"
   ]
  },
  {
   "cell_type": "code",
   "execution_count": 51,
   "metadata": {},
   "outputs": [],
   "source": [
    "# instantiate our scaler\n",
    "scaler = MinMaxScaler()\n",
    "\n",
    "# scale our engineered features\n",
    "X_train_scaled = scaler.fit_transform(X_train)\n",
    "X_test_scaled = scaler.transform(X_test)\n",
    "\n",
    "# turn the arrays into dataframes\n",
    "X_train_scaled = pd.DataFrame(X_train_scaled, columns=X_train.columns)\n",
    "X_test_scaled = pd.DataFrame(X_test_scaled, columns=X_test.columns)"
   ]
  },
  {
   "cell_type": "code",
   "execution_count": 40,
   "metadata": {},
   "outputs": [
    {
     "name": "stdout",
     "output_type": "stream",
     "text": [
      "Train Accuracy score:  0.39976108308999203\n",
      "Test Accuracy score:  0.397555099846696\n",
      "\n",
      "Train F1 score:  0.5711506158571471\n",
      "Test F1 score:  0.5689058056767914\n",
      "\n",
      "Confusion matrix test set: \n",
      " [[    0     0 12097     0]\n",
      " [    0     2 19389     0]\n",
      " [    0     0 39934     0]\n",
      " [    0     0 29032     0]]\n",
      "CPU times: user 6.02 s, sys: 36 ms, total: 6.05 s\n",
      "Wall time: 3.55 s\n"
     ]
    }
   ],
   "source": [
    "%%time\n",
    "\n",
    "#INSTANTIATE NB Classifier\n",
    "Naive_sp_feat = MultinomialNB()\n",
    "\n",
    "#fit to training set\n",
    "Naive_sp_feat.fit(X_train_scaled,y_train)\n",
    "\n",
    "#predict on train and test set\n",
    "y_pred_nb_train_sp_feat = Naive_sp_feat.predict(X_train_scaled)\n",
    "y_pred_nb_test_sp_feat = Naive_sp_feat.predict(X_test_scaled)\n",
    "\n",
    "\n",
    "# checking accuracy\n",
    "print('Train Accuracy score: ', accuracy_score(y_pred_nb_train_sp_feat, y_train))\n",
    "print('Test Accuracy score: ', accuracy_score(y_pred_nb_test_sp_feat, y_test))\n",
    "print()\n",
    "# checking F1\n",
    "print('Train F1 score: ', f1_score(y_pred_nb_train_sp_feat, y_train, average = 'weighted'))\n",
    "print('Test F1 score: ', f1_score(y_pred_nb_test_sp_feat,y_test, average = 'weighted'))\n",
    "print()\n",
    "# print confusion matrix\n",
    "print('Confusion matrix test set: \\n', confusion_matrix(y_test, y_pred_nb_test_sp_feat))"
   ]
  },
  {
   "cell_type": "code",
   "execution_count": 44,
   "metadata": {},
   "outputs": [],
   "source": [
    "cm = confusion_matrix(y_test, y_pred_nb_test_sp_feat)\n",
    "classes = ['Country', 'Hip_Hop/Rap', 'Pop/R&B', 'Rock/Metal']"
   ]
  },
  {
   "cell_type": "code",
   "execution_count": 45,
   "metadata": {},
   "outputs": [
    {
     "name": "stdout",
     "output_type": "stream",
     "text": [
      "Confusion Matrix, without normalization\n",
      "[[    0     0 12097     0]\n",
      " [    0     2 19389     0]\n",
      " [    0     0 39934     0]\n",
      " [    0     0 29032     0]]\n"
     ]
    },
    {
     "data": {
      "image/png": "[encoded data removed]",
      "text/plain": [
       "<Figure size 432x288 with 2 Axes>"
      ]
     },
     "metadata": {
      "needs_background": "light"
     },
     "output_type": "display_data"
    }
   ],
   "source": [
    "import itertools\n",
    "plot_confusion_matrix(cm, classes,\n",
    "                          normalize=False,\n",
    "                          title='Confusion matrix',\n",
    "                          cmap=plt.cm.Blues)"
   ]
  },
  {
   "cell_type": "markdown",
   "metadata": {},
   "source": [
    "for the most part this is still choosing dominant class with the exception of two instances we will move on to othe rmodel to see how they perform"
   ]
  },
  {
   "cell_type": "markdown",
   "metadata": {},
   "source": [
    "## Decision Tree with engineered features"
   ]
  },
  {
   "cell_type": "code",
   "execution_count": 68,
   "metadata": {},
   "outputs": [
    {
     "data": {
      "text/plain": [
       "array([0.35611893, 0.3553889 , 0.36142819, 0.35744624, 0.35157287,\n",
       "       0.35605256, 0.35890629, 0.35605256, 0.35472525, 0.35532254])"
      ]
     },
     "execution_count": 68,
     "metadata": {},
     "output_type": "execute_result"
    }
   ],
   "source": [
    "# look at cross validation scores to see if model should be fitted\n",
    "# instantiate the decision tree classifier\n",
    "tree_feat = DecisionTreeClassifier(class_weight = 'balanced',random_state = 333)\n",
    "\n",
    "# fit it to our training set and evaluate\n",
    "cross_val_score(tree_feat, X_train, y_train, cv=10, n_jobs=-1)"
   ]
  },
  {
   "cell_type": "markdown",
   "metadata": {},
   "source": [
    "same as with our model without engineered features this model is performing worse than naive bayes but we will still fit a model as naive bayes is sticking to one class"
   ]
  },
  {
   "cell_type": "code",
   "execution_count": 52,
   "metadata": {},
   "outputs": [
    {
     "name": "stdout",
     "output_type": "stream",
     "text": [
      "Train Accuracy score:  0.9987091850278736\n",
      "Test Accuracy score:  0.3556453700201087\n",
      "\n",
      "Train F1 score:  0.9987088634928497\n",
      "Test F1 score:  0.35552055876365146\n",
      "\n",
      "Confusion matrix test set: \n",
      " [[ 2434  1809  4647  3207]\n",
      " [ 1928  5951  7039  4473]\n",
      " [ 4644  7002 17364 10924]\n",
      " [ 3354  4651 11050  9977]]\n",
      "CPU times: user 3min 14s, sys: 646 ms, total: 3min 15s\n",
      "Wall time: 3min 15s\n"
     ]
    }
   ],
   "source": [
    "%%time\n",
    "\n",
    "# INSTANTIATE DECISION TREE MODEL\n",
    "tree_feat = DecisionTreeClassifier(class_weight = 'balanced',random_state = 333)\n",
    "\n",
    "#fit to training set\n",
    "tree_feat.fit(X_train, y_train)\n",
    "\n",
    "#predict on train and test set\n",
    "y_pred_tree_train_feat = tree_feat.predict(X_train)\n",
    "y_pred_tree_test_feat = tree_feat.predict(X_test)\n",
    "\n",
    "\n",
    "# checking accuracy\n",
    "print('Train Accuracy score: ', accuracy_score(y_pred_tree_train_feat, y_train))\n",
    "print('Test Accuracy score: ', accuracy_score(y_pred_tree_test_feat, y_test))\n",
    "print()\n",
    "# checking F1\n",
    "print('Train F1 score: ', f1_score(y_pred_tree_train_feat, y_train, average = 'weighted'))\n",
    "print('Test F1 score: ', f1_score(y_pred_tree_test_feat,y_test, average = 'weighted'))\n",
    "print()\n",
    "# print confusion matrix\n",
    "print('Confusion matrix test set: \\n', confusion_matrix(y_test, y_pred_tree_test_feat))"
   ]
  },
  {
   "cell_type": "markdown",
   "metadata": {},
   "source": [
    "## Random Forest with engineered features"
   ]
  },
  {
   "cell_type": "code",
   "execution_count": 69,
   "metadata": {},
   "outputs": [
    {
     "data": {
      "text/plain": [
       "array([0.46844306, 0.46738121, 0.47109769, 0.46691664, 0.46548978,\n",
       "       0.4664189 , 0.46980356, 0.46535705, 0.46718211, 0.47156225])"
      ]
     },
     "execution_count": 69,
     "metadata": {},
     "output_type": "execute_result"
    }
   ],
   "source": [
    "# look at cross validation scores to see if model should be fitted\n",
    "#INSTANTIATE RANDOM FOREST MODEL\n",
    "rfc_feat = RandomForestClassifier(random_state = 333, class_weight='balanced', n_jobs = -1)\n",
    "\n",
    "# fit it to our training set and evaluate\n",
    "cross_val_score(rfc_feat, X_train, y_train, cv=10, n_jobs=-1)"
   ]
  },
  {
   "cell_type": "markdown",
   "metadata": {},
   "source": [
    "this is performing better than decision tree so we will fit a model"
   ]
  },
  {
   "cell_type": "code",
   "execution_count": 55,
   "metadata": {},
   "outputs": [
    {
     "name": "stdout",
     "output_type": "stream",
     "text": [
      "Train Accuracy score:  0.9986992301566233\n",
      "Test Accuracy score:  0.4649491309455074\n",
      "\n",
      "Train F1 score:  0.998698941067143\n",
      "Test F1 score:  0.5032213259908189\n",
      "\n",
      "Confusion matrix test set: \n",
      " [[ 1173   477  8836  1611]\n",
      " [  264  5933 10942  2252]\n",
      " [  700  2454 31121  5659]\n",
      " [  444  1211 18898  8479]]\n",
      "CPU times: user 24min 58s, sys: 8.01 s, total: 25min 6s\n",
      "Wall time: 1min 48s\n"
     ]
    }
   ],
   "source": [
    "%%time\n",
    "\n",
    "#INSTANTIATE RANDOM FOREST MODEL\n",
    "rfc_feat = RandomForestClassifier(random_state = 333, class_weight='balanced', n_jobs = -1)\n",
    "\n",
    "#fit to training set\n",
    "rfc_feat.fit(X_train, y_train)\n",
    "\n",
    "#predict on train and test set\n",
    "y_pred_rfc_train_feat = rfc_feat.predict(X_train)\n",
    "y_pred_rfc_test_feat = rfc_feat.predict(X_test)\n",
    "\n",
    "\n",
    "# checking accuracy\n",
    "print('Train Accuracy score: ', accuracy_score(y_pred_rfc_train_feat, y_train))\n",
    "print('Test Accuracy score: ', accuracy_score(y_pred_rfc_test_feat, y_test))\n",
    "print()\n",
    "# checking F1\n",
    "print('Train F1 score: ', f1_score(y_pred_rfc_train_feat, y_train, average = 'weighted'))\n",
    "print('Test F1 score: ', f1_score(y_pred_rfc_test_feat,y_test, average = 'weighted'))\n",
    "print()\n",
    "# print confusion matrix\n",
    "print('Confusion matrix test set: \\n', confusion_matrix(y_test, y_pred_rfc_test_feat))"
   ]
  },
  {
   "cell_type": "code",
   "execution_count": 59,
   "metadata": {},
   "outputs": [],
   "source": [
    "cm = confusion_matrix(y_test, y_pred_rfc_test_feat)\n",
    "classes = ['Country', 'Hip_Hop/Rap', 'Pop/R&B', 'Rock/Metal']"
   ]
  },
  {
   "cell_type": "code",
   "execution_count": 60,
   "metadata": {},
   "outputs": [
    {
     "name": "stdout",
     "output_type": "stream",
     "text": [
      "Confusion Matrix, without normalization\n",
      "[[ 1173   477  8836  1611]\n",
      " [  264  5933 10942  2252]\n",
      " [  700  2454 31121  5659]\n",
      " [  444  1211 18898  8479]]\n"
     ]
    },
    {
     "data": {
      "image/png": "[encoded data removed]",
      "text/plain": [
       "<Figure size 432x288 with 2 Axes>"
      ]
     },
     "metadata": {
      "needs_background": "light"
     },
     "output_type": "display_data"
    }
   ],
   "source": [
    "import itertools\n",
    "plot_confusion_matrix(cm, classes,\n",
    "                          normalize=False,\n",
    "                          title='Confusion matrix',\n",
    "                          cmap=plt.cm.Blues)"
   ]
  },
  {
   "cell_type": "code",
   "execution_count": 63,
   "metadata": {},
   "outputs": [
    {
     "name": "stdout",
     "output_type": "stream",
     "text": [
      "              precision    recall  f1-score   support\n",
      "\n",
      "     Pop/R&B       0.45      0.10      0.16     12097\n",
      " Hip-Hop/Rap       0.59      0.31      0.40     19391\n",
      "Country/Folk       0.45      0.78      0.57     39934\n",
      "  Rock/Metal       0.47      0.29      0.36     29032\n",
      "\n",
      "    accuracy                           0.46    100454\n",
      "   macro avg       0.49      0.37      0.37    100454\n",
      "weighted avg       0.48      0.46      0.43    100454\n",
      "\n"
     ]
    }
   ],
   "source": [
    "# print out report\n",
    "print(classification_report(y_test, y_pred_rfc_test_feat, target_names=list(target.unique())))"
   ]
  },
  {
   "cell_type": "markdown",
   "metadata": {},
   "source": [
    "## Conclusion"
   ]
  },
  {
   "cell_type": "markdown",
   "metadata": {},
   "source": [
    "Random Forest with engineered features is our best model, although not by a huge margin. Naive Bayes using Spacy vectorization seems to be just predicting the majority class in most cases. Naive Bayes TF-IDF Model is a good runner up but it as it does better than any of the decision trees models."
   ]
  },
  {
   "cell_type": "code",
   "execution_count": null,
   "metadata": {},
   "outputs": [],
   "source": []
  }
 ],
 "metadata": {
  "kernelspec": {
   "display_name": "Python 3",
   "language": "python",
   "name": "python3"
  },
  "language_info": {
   "codemirror_mode": {
    "name": "ipython",
    "version": 3
   },
   "file_extension": ".py",
   "mimetype": "text/x-python",
   "name": "python",
   "nbconvert_exporter": "python",
   "pygments_lexer": "ipython3",
   "version": "3.7.6"
  }
 },
 "nbformat": 4,
 "nbformat_minor": 4
}
